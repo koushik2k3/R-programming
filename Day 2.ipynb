{
 "cells": [
  {
   "cell_type": "markdown",
   "id": "da0589f1",
   "metadata": {},
   "source": [
    "## All the sequences"
   ]
  },
  {
   "cell_type": "code",
   "execution_count": 36,
   "id": "6a1caea5",
   "metadata": {},
   "outputs": [
    {
     "name": "stdout",
     "output_type": "stream",
     "text": [
      " [1]  1  2  3  4 11 22 33 44 55 66\n"
     ]
    }
   ],
   "source": [
    "v1=c(1,2,3,4) #vector 1 dim\n",
    "v2=c(11,22,33,44,55,66)\n",
    "print(c(v1,v2))#combines 2 vector"
   ]
  },
  {
   "cell_type": "code",
   "execution_count": 33,
   "id": "0ca0a31f",
   "metadata": {},
   "outputs": [
    {
     "data": {
      "text/html": [
       "<ol class=list-inline>\n",
       "\t<li>1</li>\n",
       "\t<li>2</li>\n",
       "\t<li>3</li>\n",
       "</ol>\n"
      ],
      "text/latex": [
       "\\begin{enumerate*}\n",
       "\\item 1\n",
       "\\item 2\n",
       "\\item 3\n",
       "\\end{enumerate*}\n"
      ],
      "text/markdown": [
       "1. 1\n",
       "2. 2\n",
       "3. 3\n",
       "\n",
       "\n"
      ],
      "text/plain": [
       "[1] 1 2 3"
      ]
     },
     "metadata": {},
     "output_type": "display_data"
    }
   ],
   "source": [
    "b=list(c(1,2,3),c('a','b','c')) #list \n",
    "a"
   ]
  },
  {
   "cell_type": "code",
   "execution_count": 34,
   "id": "d601d6af",
   "metadata": {},
   "outputs": [
    {
     "data": {
      "text/html": [
       "<ol class=list-inline>\n",
       "\t<li>m</li>\n",
       "\t<li>m</li>\n",
       "\t<li>f</li>\n",
       "</ol>\n",
       "\n",
       "<details>\n",
       "\t<summary style=display:list-item;cursor:pointer>\n",
       "\t\t<strong>Levels</strong>:\n",
       "\t</summary>\n",
       "\t<ol class=list-inline>\n",
       "\t\t<li>'f'</li>\n",
       "\t\t<li>'m'</li>\n",
       "\t</ol>\n",
       "</details>"
      ],
      "text/latex": [
       "\\begin{enumerate*}\n",
       "\\item m\n",
       "\\item m\n",
       "\\item f\n",
       "\\end{enumerate*}\n",
       "\n",
       "\\emph{Levels}: \\begin{enumerate*}\n",
       "\\item 'f'\n",
       "\\item 'm'\n",
       "\\end{enumerate*}\n"
      ],
      "text/markdown": [
       "1. m\n",
       "2. m\n",
       "3. f\n",
       "\n",
       "\n",
       "\n",
       "**Levels**: 1. 'f'\n",
       "2. 'm'\n",
       "\n",
       "\n"
      ],
      "text/plain": [
       "[1] m m f\n",
       "Levels: f m"
      ]
     },
     "metadata": {},
     "output_type": "display_data"
    }
   ],
   "source": [
    "c=factor(c('m','m','f')) #factor store categorical data\n",
    "c"
   ]
  },
  {
   "cell_type": "code",
   "execution_count": 41,
   "id": "fb472396",
   "metadata": {
    "scrolled": true
   },
   "outputs": [
    {
     "data": {
      "text/html": [
       "<table>\n",
       "<tbody>\n",
       "\t<tr><td>1 </td><td> 4</td><td>33</td></tr>\n",
       "\t<tr><td>2 </td><td>11</td><td>44</td></tr>\n",
       "\t<tr><td>3 </td><td>22</td><td>55</td></tr>\n",
       "</tbody>\n",
       "</table>\n"
      ],
      "text/latex": [
       "\\begin{tabular}{lll}\n",
       "\t 1  &  4 & 33\\\\\n",
       "\t 2  & 11 & 44\\\\\n",
       "\t 3  & 22 & 55\\\\\n",
       "\\end{tabular}\n"
      ],
      "text/markdown": [
       "\n",
       "| 1  |  4 | 33 |\n",
       "| 2  | 11 | 44 |\n",
       "| 3  | 22 | 55 |\n",
       "\n"
      ],
      "text/plain": [
       "     [,1] [,2] [,3]\n",
       "[1,] 1     4   33  \n",
       "[2,] 2    11   44  \n",
       "[3,] 3    22   55  "
      ]
     },
     "metadata": {},
     "output_type": "display_data"
    },
    {
     "name": "stdout",
     "output_type": "stream",
     "text": [
      "     [,1] [,2] [,3]\n",
      "[1,]    1    4   33\n",
      "[2,]    2   11   44\n",
      "[3,]    3   22   55\n"
     ]
    },
    {
     "data": {
      "text/html": [
       "<ol class=list-inline>\n",
       "\t<li>1</li>\n",
       "\t<li>2</li>\n",
       "\t<li>3</li>\n",
       "\t<li>4</li>\n",
       "\t<li>11</li>\n",
       "\t<li>22</li>\n",
       "\t<li>33</li>\n",
       "\t<li>44</li>\n",
       "\t<li>55</li>\n",
       "\t<li>66</li>\n",
       "\t<li>1</li>\n",
       "\t<li>2</li>\n",
       "\t<li>3</li>\n",
       "\t<li>4</li>\n",
       "\t<li>11</li>\n",
       "\t<li>22</li>\n",
       "\t<li>33</li>\n",
       "\t<li>44</li>\n",
       "</ol>\n"
      ],
      "text/latex": [
       "\\begin{enumerate*}\n",
       "\\item 1\n",
       "\\item 2\n",
       "\\item 3\n",
       "\\item 4\n",
       "\\item 11\n",
       "\\item 22\n",
       "\\item 33\n",
       "\\item 44\n",
       "\\item 55\n",
       "\\item 66\n",
       "\\item 1\n",
       "\\item 2\n",
       "\\item 3\n",
       "\\item 4\n",
       "\\item 11\n",
       "\\item 22\n",
       "\\item 33\n",
       "\\item 44\n",
       "\\end{enumerate*}\n"
      ],
      "text/markdown": [
       "1. 1\n",
       "2. 2\n",
       "3. 3\n",
       "4. 4\n",
       "5. 11\n",
       "6. 22\n",
       "7. 33\n",
       "8. 44\n",
       "9. 55\n",
       "10. 66\n",
       "11. 1\n",
       "12. 2\n",
       "13. 3\n",
       "14. 4\n",
       "15. 11\n",
       "16. 22\n",
       "17. 33\n",
       "18. 44\n",
       "\n",
       "\n"
      ],
      "text/plain": [
       ", , 1\n",
       "\n",
       "     [,1] [,2] [,3]\n",
       "[1,]    1    4   33\n",
       "[2,]    2   11   44\n",
       "[3,]    3   22   55\n",
       "\n",
       ", , 2\n",
       "\n",
       "     [,1] [,2] [,3]\n",
       "[1,]   66    3   22\n",
       "[2,]    1    4   33\n",
       "[3,]    2   11   44\n"
      ]
     },
     "metadata": {},
     "output_type": "display_data"
    },
    {
     "name": "stdout",
     "output_type": "stream",
     "text": [
      ", , 1\n",
      "\n",
      "     [,1] [,2] [,3]\n",
      "[1,]    1    4   33\n",
      "[2,]    2   11   44\n",
      "[3,]    3   22   55\n",
      "\n",
      ", , 2\n",
      "\n",
      "     [,1] [,2] [,3]\n",
      "[1,]   66    3   22\n",
      "[2,]    1    4   33\n",
      "[3,]    2   11   44\n",
      "\n"
     ]
    }
   ],
   "source": [
    "# create an array of two 3x3 matrix using two given vector\n",
    "\n",
    "matrix=array(c(v1,v2),dim=c(3,3))\n",
    "matrix\n",
    "print(matrix)\n",
    "#if u want 2 matrices\n",
    "matrix=array(c(v1,v2),dim=c(3,3,2))#add another paremter\n",
    "matrix#wont work properly\n",
    "print(matrix)"
   ]
  },
  {
   "cell_type": "markdown",
   "id": "ea161162",
   "metadata": {},
   "source": [
    "## Matric created using matric method"
   ]
  },
  {
   "cell_type": "code",
   "execution_count": 42,
   "id": "57af87bb",
   "metadata": {},
   "outputs": [
    {
     "data": {
      "text/html": [
       "<table>\n",
       "<thead><tr><th></th><th scope=col>c1</th><th scope=col>c2</th><th scope=col>c3</th><th scope=col>c4</th></tr></thead>\n",
       "<tbody>\n",
       "\t<tr><th scope=row>r1</th><td> 1</td><td> 2</td><td> 3</td><td> 4</td></tr>\n",
       "\t<tr><th scope=row>r2</th><td> 5</td><td> 6</td><td> 7</td><td> 8</td></tr>\n",
       "\t<tr><th scope=row>r3</th><td> 9</td><td>10</td><td>11</td><td>12</td></tr>\n",
       "\t<tr><th scope=row>r4</th><td>13</td><td>14</td><td>15</td><td>16</td></tr>\n",
       "</tbody>\n",
       "</table>\n"
      ],
      "text/latex": [
       "\\begin{tabular}{r|llll}\n",
       "  & c1 & c2 & c3 & c4\\\\\n",
       "\\hline\n",
       "\tr1 &  1 &  2 &  3 &  4\\\\\n",
       "\tr2 &  5 &  6 &  7 &  8\\\\\n",
       "\tr3 &  9 & 10 & 11 & 12\\\\\n",
       "\tr4 & 13 & 14 & 15 & 16\\\\\n",
       "\\end{tabular}\n"
      ],
      "text/markdown": [
       "\n",
       "| <!--/--> | c1 | c2 | c3 | c4 |\n",
       "|---|---|---|---|---|\n",
       "| r1 |  1 |  2 |  3 |  4 |\n",
       "| r2 |  5 |  6 |  7 |  8 |\n",
       "| r3 |  9 | 10 | 11 | 12 |\n",
       "| r4 | 13 | 14 | 15 | 16 |\n",
       "\n"
      ],
      "text/plain": [
       "   c1 c2 c3 c4\n",
       "r1  1  2  3  4\n",
       "r2  5  6  7  8\n",
       "r3  9 10 11 12\n",
       "r4 13 14 15 16"
      ]
     },
     "metadata": {},
     "output_type": "display_data"
    },
    {
     "name": "stderr",
     "output_type": "stream",
     "text": [
      "Warning message in matrix(c(1:16), nrow = 5, ncol = 5, byrow = TRUE, dimnames = list(rname, :\n",
      "\"data length [16] is not a sub-multiple or multiple of the number of rows [5]\""
     ]
    },
    {
     "ename": "ERROR",
     "evalue": "Error in matrix(c(1:16), nrow = 5, ncol = 5, byrow = TRUE, dimnames = list(rname, : length of 'dimnames' [1] not equal to array extent\n",
     "output_type": "error",
     "traceback": [
      "Error in matrix(c(1:16), nrow = 5, ncol = 5, byrow = TRUE, dimnames = list(rname, : length of 'dimnames' [1] not equal to array extent\nTraceback:\n",
      "1. matrix(c(1:16), nrow = 5, ncol = 5, byrow = TRUE, dimnames = list(rname, \n .     cname))"
     ]
    }
   ],
   "source": [
    "rname=c('r1','r2','r3','r4')\n",
    "cname=c('c1','c2','c3','c4')\n",
    "matrix=matrix(c(1:16),nrow=4,ncol=4,byrow=TRUE,dimnames=list(rname,cname))#row and column names always passed as list\n",
    "matrix\n",
    "#here we can't specify no of columns and rows more than available elements in the vector\n",
    "matrix(c(1:16),nrow=5,ncol=5,byrow=TRUE,dimnames=list(rname,cname))#this wont work"
   ]
  },
  {
   "cell_type": "code",
   "execution_count": null,
   "id": "d6d27397",
   "metadata": {},
   "outputs": [],
   "source": []
  },
  {
   "cell_type": "code",
   "execution_count": null,
   "id": "568cee0a",
   "metadata": {},
   "outputs": [],
   "source": []
  },
  {
   "cell_type": "code",
   "execution_count": null,
   "id": "107969c8",
   "metadata": {},
   "outputs": [],
   "source": [
    "a=rep(c(1,2,3),each=3) #repeat the vector each 3 times\n",
    "a"
   ]
  },
  {
   "cell_type": "code",
   "execution_count": 2,
   "id": "a258ab1c",
   "metadata": {},
   "outputs": [
    {
     "data": {
      "text/html": [
       "<ol class=list-inline>\n",
       "\t<li>3</li>\n",
       "\t<li>3</li>\n",
       "\t<li>3</li>\n",
       "\t<li>2</li>\n",
       "\t<li>2</li>\n",
       "\t<li>2</li>\n",
       "\t<li>1</li>\n",
       "\t<li>1</li>\n",
       "\t<li>1</li>\n",
       "</ol>\n"
      ],
      "text/latex": [
       "\\begin{enumerate*}\n",
       "\\item 3\n",
       "\\item 3\n",
       "\\item 3\n",
       "\\item 2\n",
       "\\item 2\n",
       "\\item 2\n",
       "\\item 1\n",
       "\\item 1\n",
       "\\item 1\n",
       "\\end{enumerate*}\n"
      ],
      "text/markdown": [
       "1. 3\n",
       "2. 3\n",
       "3. 3\n",
       "4. 2\n",
       "5. 2\n",
       "6. 2\n",
       "7. 1\n",
       "8. 1\n",
       "9. 1\n",
       "\n",
       "\n"
      ],
      "text/plain": [
       "[1] 3 3 3 2 2 2 1 1 1"
      ]
     },
     "metadata": {},
     "output_type": "display_data"
    }
   ],
   "source": [
    "sort(a,TRUE)"
   ]
  },
  {
   "cell_type": "code",
   "execution_count": 28,
   "id": "0aa248eb",
   "metadata": {},
   "outputs": [
    {
     "data": {
      "text/html": [
       "<ol class=list-inline>\n",
       "\t<li>5</li>\n",
       "\t<li>5</li>\n",
       "\t<li>5</li>\n",
       "\t<li>5</li>\n",
       "\t<li>3</li>\n",
       "\t<li>3</li>\n",
       "\t<li>2</li>\n",
       "\t<li>2</li>\n",
       "\t<li>1</li>\n",
       "</ol>\n"
      ],
      "text/latex": [
       "\\begin{enumerate*}\n",
       "\\item 5\n",
       "\\item 5\n",
       "\\item 5\n",
       "\\item 5\n",
       "\\item 3\n",
       "\\item 3\n",
       "\\item 2\n",
       "\\item 2\n",
       "\\item 1\n",
       "\\end{enumerate*}\n"
      ],
      "text/markdown": [
       "1. 5\n",
       "2. 5\n",
       "3. 5\n",
       "4. 5\n",
       "5. 3\n",
       "6. 3\n",
       "7. 2\n",
       "8. 2\n",
       "9. 1\n",
       "\n",
       "\n"
      ],
      "text/plain": [
       "[1] 5 5 5 5 3 3 2 2 1"
      ]
     },
     "metadata": {},
     "output_type": "display_data"
    }
   ],
   "source": [
    "a[c(2,4)]=5\n",
    "a"
   ]
  },
  {
   "cell_type": "code",
   "execution_count": 24,
   "id": "55df7b64",
   "metadata": {},
   "outputs": [
    {
     "data": {
      "text/html": [
       "<ol class=list-inline>\n",
       "\t<li>1</li>\n",
       "\t<li>5</li>\n",
       "\t<li>5</li>\n",
       "\t<li>5</li>\n",
       "\t<li>2</li>\n",
       "\t<li>2</li>\n",
       "\t<li>3</li>\n",
       "\t<li>3</li>\n",
       "\t<li>3</li>\n",
       "</ol>\n"
      ],
      "text/latex": [
       "\\begin{enumerate*}\n",
       "\\item 1\n",
       "\\item 5\n",
       "\\item 5\n",
       "\\item 5\n",
       "\\item 2\n",
       "\\item 2\n",
       "\\item 3\n",
       "\\item 3\n",
       "\\item 3\n",
       "\\end{enumerate*}\n"
      ],
      "text/markdown": [
       "1. 1\n",
       "2. 5\n",
       "3. 5\n",
       "4. 5\n",
       "5. 2\n",
       "6. 2\n",
       "7. 3\n",
       "8. 3\n",
       "9. 3\n",
       "\n",
       "\n"
      ],
      "text/plain": [
       "[1] 1 5 5 5 2 2 3 3 3"
      ]
     },
     "metadata": {},
     "output_type": "display_data"
    }
   ],
   "source": [
    "a[2:4]=5\n",
    "a"
   ]
  },
  {
   "cell_type": "code",
   "execution_count": 29,
   "id": "d7256f82",
   "metadata": {},
   "outputs": [
    {
     "data": {
      "text/html": [
       "<ol class=list-inline>\n",
       "\t<li>5</li>\n",
       "\t<li>5</li>\n",
       "\t<li>5</li>\n",
       "\t<li>5</li>\n",
       "\t<li>3</li>\n",
       "\t<li>3</li>\n",
       "\t<li>2</li>\n",
       "\t<li>2</li>\n",
       "\t<li>1</li>\n",
       "</ol>\n"
      ],
      "text/latex": [
       "\\begin{enumerate*}\n",
       "\\item 5\n",
       "\\item 5\n",
       "\\item 5\n",
       "\\item 5\n",
       "\\item 3\n",
       "\\item 3\n",
       "\\item 2\n",
       "\\item 2\n",
       "\\item 1\n",
       "\\end{enumerate*}\n"
      ],
      "text/markdown": [
       "1. 5\n",
       "2. 5\n",
       "3. 5\n",
       "4. 5\n",
       "5. 3\n",
       "6. 3\n",
       "7. 2\n",
       "8. 2\n",
       "9. 1\n",
       "\n",
       "\n"
      ],
      "text/plain": [
       "[1] 5 5 5 5 3 3 2 2 1"
      ]
     },
     "metadata": {},
     "output_type": "display_data"
    }
   ],
   "source": [
    "a=sort(a,TRUE)\n",
    "a"
   ]
  },
  {
   "cell_type": "code",
   "execution_count": 30,
   "id": "ff617ada",
   "metadata": {
    "scrolled": true
   },
   "outputs": [
    {
     "data": {
      "text/html": [
       "<ol class=list-inline>\n",
       "\t<li>1</li>\n",
       "\t<li>2</li>\n",
       "\t<li>3</li>\n",
       "\t<li>4</li>\n",
       "\t<li>5</li>\n",
       "\t<li>6</li>\n",
       "\t<li>7</li>\n",
       "\t<li>8</li>\n",
       "\t<li>9</li>\n",
       "\t<li>10</li>\n",
       "\t<li>11</li>\n",
       "\t<li>12</li>\n",
       "\t<li>13</li>\n",
       "\t<li>14</li>\n",
       "\t<li>15</li>\n",
       "\t<li>16</li>\n",
       "\t<li>17</li>\n",
       "\t<li>18</li>\n",
       "\t<li>19</li>\n",
       "\t<li>20</li>\n",
       "\t<li>21</li>\n",
       "\t<li>22</li>\n",
       "\t<li>23</li>\n",
       "\t<li>24</li>\n",
       "\t<li>25</li>\n",
       "\t<li>26</li>\n",
       "\t<li>27</li>\n",
       "\t<li>28</li>\n",
       "\t<li>29</li>\n",
       "\t<li>30</li>\n",
       "\t<li>31</li>\n",
       "\t<li>32</li>\n",
       "\t<li>33</li>\n",
       "\t<li>34</li>\n",
       "\t<li>35</li>\n",
       "\t<li>36</li>\n",
       "\t<li>37</li>\n",
       "\t<li>38</li>\n",
       "\t<li>39</li>\n",
       "\t<li>40</li>\n",
       "\t<li>41</li>\n",
       "\t<li>42</li>\n",
       "\t<li>43</li>\n",
       "\t<li>44</li>\n",
       "\t<li>45</li>\n",
       "\t<li>46</li>\n",
       "\t<li>47</li>\n",
       "\t<li>48</li>\n",
       "\t<li>49</li>\n",
       "\t<li>50</li>\n",
       "</ol>\n"
      ],
      "text/latex": [
       "\\begin{enumerate*}\n",
       "\\item 1\n",
       "\\item 2\n",
       "\\item 3\n",
       "\\item 4\n",
       "\\item 5\n",
       "\\item 6\n",
       "\\item 7\n",
       "\\item 8\n",
       "\\item 9\n",
       "\\item 10\n",
       "\\item 11\n",
       "\\item 12\n",
       "\\item 13\n",
       "\\item 14\n",
       "\\item 15\n",
       "\\item 16\n",
       "\\item 17\n",
       "\\item 18\n",
       "\\item 19\n",
       "\\item 20\n",
       "\\item 21\n",
       "\\item 22\n",
       "\\item 23\n",
       "\\item 24\n",
       "\\item 25\n",
       "\\item 26\n",
       "\\item 27\n",
       "\\item 28\n",
       "\\item 29\n",
       "\\item 30\n",
       "\\item 31\n",
       "\\item 32\n",
       "\\item 33\n",
       "\\item 34\n",
       "\\item 35\n",
       "\\item 36\n",
       "\\item 37\n",
       "\\item 38\n",
       "\\item 39\n",
       "\\item 40\n",
       "\\item 41\n",
       "\\item 42\n",
       "\\item 43\n",
       "\\item 44\n",
       "\\item 45\n",
       "\\item 46\n",
       "\\item 47\n",
       "\\item 48\n",
       "\\item 49\n",
       "\\item 50\n",
       "\\end{enumerate*}\n"
      ],
      "text/markdown": [
       "1. 1\n",
       "2. 2\n",
       "3. 3\n",
       "4. 4\n",
       "5. 5\n",
       "6. 6\n",
       "7. 7\n",
       "8. 8\n",
       "9. 9\n",
       "10. 10\n",
       "11. 11\n",
       "12. 12\n",
       "13. 13\n",
       "14. 14\n",
       "15. 15\n",
       "16. 16\n",
       "17. 17\n",
       "18. 18\n",
       "19. 19\n",
       "20. 20\n",
       "21. 21\n",
       "22. 22\n",
       "23. 23\n",
       "24. 24\n",
       "25. 25\n",
       "26. 26\n",
       "27. 27\n",
       "28. 28\n",
       "29. 29\n",
       "30. 30\n",
       "31. 31\n",
       "32. 32\n",
       "33. 33\n",
       "34. 34\n",
       "35. 35\n",
       "36. 36\n",
       "37. 37\n",
       "38. 38\n",
       "39. 39\n",
       "40. 40\n",
       "41. 41\n",
       "42. 42\n",
       "43. 43\n",
       "44. 44\n",
       "45. 45\n",
       "46. 46\n",
       "47. 47\n",
       "48. 48\n",
       "49. 49\n",
       "50. 50\n",
       "\n",
       "\n"
      ],
      "text/plain": [
       " [1]  1  2  3  4  5  6  7  8  9 10 11 12 13 14 15 16 17 18 19 20 21 22 23 24 25\n",
       "[26] 26 27 28 29 30 31 32 33 34 35 36 37 38 39 40 41 42 43 44 45 46 47 48 49 50"
      ]
     },
     "metadata": {},
     "output_type": "display_data"
    }
   ],
   "source": [
    "a=c(1:50)\n",
    "a"
   ]
  },
  {
   "cell_type": "code",
   "execution_count": 35,
   "id": "1b598e7b",
   "metadata": {
    "scrolled": true
   },
   "outputs": [
    {
     "data": {
      "text/html": [
       "<ol class=list-inline>\n",
       "\t<li>1</li>\n",
       "\t<li>3</li>\n",
       "\t<li>5</li>\n",
       "\t<li>7</li>\n",
       "\t<li>9</li>\n",
       "</ol>\n"
      ],
      "text/latex": [
       "\\begin{enumerate*}\n",
       "\\item 1\n",
       "\\item 3\n",
       "\\item 5\n",
       "\\item 7\n",
       "\\item 9\n",
       "\\end{enumerate*}\n"
      ],
      "text/markdown": [
       "1. 1\n",
       "2. 3\n",
       "3. 5\n",
       "4. 7\n",
       "5. 9\n",
       "\n",
       "\n"
      ],
      "text/plain": [
       "[1] 1 3 5 7 9"
      ]
     },
     "metadata": {},
     "output_type": "display_data"
    }
   ],
   "source": [
    "a=seq(from=1,to=10,by=2)\n",
    "a"
   ]
  },
  {
   "cell_type": "code",
   "execution_count": 45,
   "id": "72b499d5",
   "metadata": {
    "scrolled": true
   },
   "outputs": [
    {
     "data": {
      "text/html": [
       "<ol class=list-inline>\n",
       "\t<li>1</li>\n",
       "\t<li>1.5</li>\n",
       "\t<li>2</li>\n",
       "\t<li>2.5</li>\n",
       "\t<li>3</li>\n",
       "\t<li>3.5</li>\n",
       "\t<li>4</li>\n",
       "\t<li>4.5</li>\n",
       "\t<li>5</li>\n",
       "</ol>\n"
      ],
      "text/latex": [
       "\\begin{enumerate*}\n",
       "\\item 1\n",
       "\\item 1.5\n",
       "\\item 2\n",
       "\\item 2.5\n",
       "\\item 3\n",
       "\\item 3.5\n",
       "\\item 4\n",
       "\\item 4.5\n",
       "\\item 5\n",
       "\\end{enumerate*}\n"
      ],
      "text/markdown": [
       "1. 1\n",
       "2. 1.5\n",
       "3. 2\n",
       "4. 2.5\n",
       "5. 3\n",
       "6. 3.5\n",
       "7. 4\n",
       "8. 4.5\n",
       "9. 5\n",
       "\n",
       "\n"
      ],
      "text/plain": [
       "[1] 1.0 1.5 2.0 2.5 3.0 3.5 4.0 4.5 5.0"
      ]
     },
     "metadata": {},
     "output_type": "display_data"
    },
    {
     "data": {
      "text/html": [
       "9"
      ],
      "text/latex": [
       "9"
      ],
      "text/markdown": [
       "9"
      ],
      "text/plain": [
       "[1] 9"
      ]
     },
     "metadata": {},
     "output_type": "display_data"
    },
    {
     "data": {
      "text/html": [
       "<ol class=list-inline>\n",
       "\t<li>1</li>\n",
       "\t<li>1.44444444444444</li>\n",
       "\t<li>1.88888888888889</li>\n",
       "\t<li>2.33333333333333</li>\n",
       "\t<li>2.77777777777778</li>\n",
       "\t<li>3.22222222222222</li>\n",
       "\t<li>3.66666666666667</li>\n",
       "\t<li>4.11111111111111</li>\n",
       "\t<li>4.55555555555556</li>\n",
       "\t<li>5</li>\n",
       "</ol>\n"
      ],
      "text/latex": [
       "\\begin{enumerate*}\n",
       "\\item 1\n",
       "\\item 1.44444444444444\n",
       "\\item 1.88888888888889\n",
       "\\item 2.33333333333333\n",
       "\\item 2.77777777777778\n",
       "\\item 3.22222222222222\n",
       "\\item 3.66666666666667\n",
       "\\item 4.11111111111111\n",
       "\\item 4.55555555555556\n",
       "\\item 5\n",
       "\\end{enumerate*}\n"
      ],
      "text/markdown": [
       "1. 1\n",
       "2. 1.44444444444444\n",
       "3. 1.88888888888889\n",
       "4. 2.33333333333333\n",
       "5. 2.77777777777778\n",
       "6. 3.22222222222222\n",
       "7. 3.66666666666667\n",
       "8. 4.11111111111111\n",
       "9. 4.55555555555556\n",
       "10. 5\n",
       "\n",
       "\n"
      ],
      "text/plain": [
       " [1] 1.000000 1.444444 1.888889 2.333333 2.777778 3.222222 3.666667 4.111111\n",
       " [9] 4.555556 5.000000"
      ]
     },
     "metadata": {},
     "output_type": "display_data"
    },
    {
     "data": {
      "text/html": [
       "10"
      ],
      "text/latex": [
       "10"
      ],
      "text/markdown": [
       "10"
      ],
      "text/plain": [
       "[1] 10"
      ]
     },
     "metadata": {},
     "output_type": "display_data"
    }
   ],
   "source": [
    "a=seq(1,5,0.5)#using step value\n",
    "a\n",
    "length(a)\n",
    "a=seq(from=1,to=5,length.out=10)#using length.out\n",
    "a\n",
    "length(a)"
   ]
  },
  {
   "cell_type": "code",
   "execution_count": 59,
   "id": "22ab798a",
   "metadata": {
    "scrolled": true
   },
   "outputs": [
    {
     "data": {
      "text/html": [
       "16"
      ],
      "text/latex": [
       "16"
      ],
      "text/markdown": [
       "16"
      ],
      "text/plain": [
       "[1] 16"
      ]
     },
     "metadata": {},
     "output_type": "display_data"
    },
    {
     "data": {
      "text/html": [
       "2"
      ],
      "text/latex": [
       "2"
      ],
      "text/markdown": [
       "2"
      ],
      "text/plain": [
       "[1] 2"
      ]
     },
     "metadata": {},
     "output_type": "display_data"
    },
    {
     "data": {
      "text/html": [
       "<ol class=list-inline>\n",
       "\t<li>TRUE</li>\n",
       "\t<li>FALSE</li>\n",
       "\t<li>FALSE</li>\n",
       "\t<li>FALSE</li>\n",
       "\t<li>FALSE</li>\n",
       "\t<li>TRUE</li>\n",
       "</ol>\n"
      ],
      "text/latex": [
       "\\begin{enumerate*}\n",
       "\\item TRUE\n",
       "\\item FALSE\n",
       "\\item FALSE\n",
       "\\item FALSE\n",
       "\\item FALSE\n",
       "\\item TRUE\n",
       "\\end{enumerate*}\n"
      ],
      "text/markdown": [
       "1. TRUE\n",
       "2. FALSE\n",
       "3. FALSE\n",
       "4. FALSE\n",
       "5. FALSE\n",
       "6. TRUE\n",
       "\n",
       "\n"
      ],
      "text/plain": [
       "[1]  TRUE FALSE FALSE FALSE FALSE  TRUE"
      ]
     },
     "metadata": {},
     "output_type": "display_data"
    }
   ],
   "source": [
    "mark=c(1,2,3,4,5,1)\n",
    "sum(mark)#sumation of vector\n",
    "sum(mark==1)#count of 1\n",
    "mark==1#gives boolean results"
   ]
  },
  {
   "cell_type": "code",
   "execution_count": 50,
   "id": "8c0958ec",
   "metadata": {},
   "outputs": [
    {
     "data": {
      "text/html": [
       "<span style=white-space:pre-wrap>'The count of 1 is:  2'</span>"
      ],
      "text/latex": [
       "'The count of 1 is:  2'"
      ],
      "text/markdown": [
       "<span style=white-space:pre-wrap>'The count of 1 is:  2'</span>"
      ],
      "text/plain": [
       "[1] \"The count of 1 is:  2\""
      ]
     },
     "metadata": {},
     "output_type": "display_data"
    }
   ],
   "source": [
    "paste('The count of 1 is: ',sum(mark==1))"
   ]
  },
  {
   "cell_type": "code",
   "execution_count": 55,
   "id": "62627e8c",
   "metadata": {},
   "outputs": [
    {
     "name": "stdout",
     "output_type": "stream",
     "text": [
      "Enter ur choices\n"
     ]
    },
    {
     "data": {
      "text/html": [
       "'The count of s is: 0'"
      ],
      "text/latex": [
       "'The count of s is: 0'"
      ],
      "text/markdown": [
       "'The count of s is: 0'"
      ],
      "text/plain": [
       "[1] \"The count of s is: 0\""
      ]
     },
     "metadata": {},
     "output_type": "display_data"
    }
   ],
   "source": [
    "a=c('java','python','c','r','python')\n",
    "x=readline('Enter ur choice')\n",
    "paste('The count of',x,'is:',sum(a==x))"
   ]
  },
  {
   "cell_type": "code",
   "execution_count": 57,
   "id": "e0da4e74",
   "metadata": {},
   "outputs": [
    {
     "data": {
      "text/html": [
       "<ol class=list-inline>\n",
       "\t<li>'java'</li>\n",
       "\t<li>'python'</li>\n",
       "\t<li>'c'</li>\n",
       "\t<li>'r'</li>\n",
       "</ol>\n"
      ],
      "text/latex": [
       "\\begin{enumerate*}\n",
       "\\item 'java'\n",
       "\\item 'python'\n",
       "\\item 'c'\n",
       "\\item 'r'\n",
       "\\end{enumerate*}\n"
      ],
      "text/markdown": [
       "1. 'java'\n",
       "2. 'python'\n",
       "3. 'c'\n",
       "4. 'r'\n",
       "\n",
       "\n"
      ],
      "text/plain": [
       "[1] \"java\"   \"python\" \"c\"      \"r\"     "
      ]
     },
     "metadata": {},
     "output_type": "display_data"
    }
   ],
   "source": [
    "unique(a)#unique Values"
   ]
  },
  {
   "cell_type": "code",
   "execution_count": 62,
   "id": "670a6d92",
   "metadata": {},
   "outputs": [
    {
     "data": {
      "text/html": [
       "<ol class=list-inline>\n",
       "\t<li>4</li>\n",
       "\t<li>5</li>\n",
       "</ol>\n"
      ],
      "text/latex": [
       "\\begin{enumerate*}\n",
       "\\item 4\n",
       "\\item 5\n",
       "\\end{enumerate*}\n"
      ],
      "text/markdown": [
       "1. 4\n",
       "2. 5\n",
       "\n",
       "\n"
      ],
      "text/plain": [
       "[1] 4 5"
      ]
     },
     "metadata": {},
     "output_type": "display_data"
    },
    {
     "data": {
      "text/html": [
       "<ol class=list-inline>\n",
       "\t<li>6</li>\n",
       "\t<li>7</li>\n",
       "</ol>\n"
      ],
      "text/latex": [
       "\\begin{enumerate*}\n",
       "\\item 6\n",
       "\\item 7\n",
       "\\end{enumerate*}\n"
      ],
      "text/markdown": [
       "1. 6\n",
       "2. 7\n",
       "\n",
       "\n"
      ],
      "text/plain": [
       "[1] 6 7"
      ]
     },
     "metadata": {},
     "output_type": "display_data"
    }
   ],
   "source": [
    "a=c(1,2,3,4,5)\n",
    "b=c(1,2,3,6,7)\n",
    "setdiff(a,b)#what is there in a that is not in b\n",
    "setdiff(b,a)#what is there in b that is not in a"
   ]
  },
  {
   "cell_type": "code",
   "execution_count": 77,
   "id": "098fd53b",
   "metadata": {},
   "outputs": [
    {
     "name": "stdout",
     "output_type": "stream",
     "text": [
      "Enter no. of inputs: 3\n",
      "Enter element no: 1 :1\n",
      "Enter element no: 2 :2\n",
      "Enter element no: 3 :3\n"
     ]
    }
   ],
   "source": [
    "element=c()\n",
    "n=as.integer(readline('Enter no. of inputs: '))\n",
    "for(i in seq(n))#getting multiple inputs\n",
    "{#no indentation\n",
    "    element[i]=as.numeric(readline(paste('Enter element no:',i,':')))\n",
    "}"
   ]
  },
  {
   "cell_type": "code",
   "execution_count": 80,
   "id": "f3d97ee1",
   "metadata": {
    "scrolled": true
   },
   "outputs": [
    {
     "data": {
      "text/html": [
       "<ol class=list-inline>\n",
       "\t<li>1</li>\n",
       "\t<li>2</li>\n",
       "\t<li>3</li>\n",
       "</ol>\n"
      ],
      "text/latex": [
       "\\begin{enumerate*}\n",
       "\\item 1\n",
       "\\item 2\n",
       "\\item 3\n",
       "\\end{enumerate*}\n"
      ],
      "text/markdown": [
       "1. 1\n",
       "2. 2\n",
       "3. 3\n",
       "\n",
       "\n"
      ],
      "text/plain": [
       "[1] 1 2 3"
      ]
     },
     "metadata": {},
     "output_type": "display_data"
    },
    {
     "data": {
      "text/html": [
       "<ol class=list-inline>\n",
       "\t<li>1</li>\n",
       "\t<li>2</li>\n",
       "\t<li>3</li>\n",
       "</ol>\n"
      ],
      "text/latex": [
       "\\begin{enumerate*}\n",
       "\\item 1\n",
       "\\item 2\n",
       "\\item 3\n",
       "\\end{enumerate*}\n"
      ],
      "text/markdown": [
       "1. 1\n",
       "2. 2\n",
       "3. 3\n",
       "\n",
       "\n"
      ],
      "text/plain": [
       "[1] 1 2 3"
      ]
     },
     "metadata": {},
     "output_type": "display_data"
    },
    {
     "data": {
      "text/html": [
       "<ol class=list-inline>\n",
       "\t<li>3</li>\n",
       "\t<li>2</li>\n",
       "\t<li>1</li>\n",
       "</ol>\n"
      ],
      "text/latex": [
       "\\begin{enumerate*}\n",
       "\\item 3\n",
       "\\item 2\n",
       "\\item 1\n",
       "\\end{enumerate*}\n"
      ],
      "text/markdown": [
       "1. 3\n",
       "2. 2\n",
       "3. 1\n",
       "\n",
       "\n"
      ],
      "text/plain": [
       "[1] 3 2 1"
      ]
     },
     "metadata": {},
     "output_type": "display_data"
    },
    {
     "data": {
      "text/html": [
       "<ol class=list-inline>\n",
       "\t<li>1</li>\n",
       "\t<li>2</li>\n",
       "\t<li>3</li>\n",
       "</ol>\n"
      ],
      "text/latex": [
       "\\begin{enumerate*}\n",
       "\\item 1\n",
       "\\item 2\n",
       "\\item 3\n",
       "\\end{enumerate*}\n"
      ],
      "text/markdown": [
       "1. 1\n",
       "2. 2\n",
       "3. 3\n",
       "\n",
       "\n"
      ],
      "text/plain": [
       "[1] 1 2 3"
      ]
     },
     "metadata": {},
     "output_type": "display_data"
    },
    {
     "data": {
      "text/html": [
       "<ol class=list-inline>\n",
       "\t<li>3</li>\n",
       "\t<li>2</li>\n",
       "\t<li>1</li>\n",
       "</ol>\n"
      ],
      "text/latex": [
       "\\begin{enumerate*}\n",
       "\\item 3\n",
       "\\item 2\n",
       "\\item 1\n",
       "\\end{enumerate*}\n"
      ],
      "text/markdown": [
       "1. 3\n",
       "2. 2\n",
       "3. 1\n",
       "\n",
       "\n"
      ],
      "text/plain": [
       "[1] 3 2 1"
      ]
     },
     "metadata": {},
     "output_type": "display_data"
    }
   ],
   "source": [
    "element\n",
    "sort(element,FALSE)\n",
    "sort(element,TRUE)\n",
    "element#sort is does not inplace if not assigned\n",
    "x=sort(element,TRUE)\n",
    "x"
   ]
  },
  {
   "cell_type": "code",
   "execution_count": 71,
   "id": "a4be6012",
   "metadata": {},
   "outputs": [
    {
     "data": {
      "text/html": [
       "<ol class=list-inline>\n",
       "\t<li>1</li>\n",
       "\t<li>2</li>\n",
       "\t<li>2</li>\n",
       "</ol>\n"
      ],
      "text/latex": [
       "\\begin{enumerate*}\n",
       "\\item 1\n",
       "\\item 2\n",
       "\\item 2\n",
       "\\end{enumerate*}\n"
      ],
      "text/markdown": [
       "1. 1\n",
       "2. 2\n",
       "3. 2\n",
       "\n",
       "\n"
      ],
      "text/plain": [
       "[1] 1 2 2"
      ]
     },
     "metadata": {},
     "output_type": "display_data"
    }
   ],
   "source": [
    "element"
   ]
  },
  {
   "cell_type": "code",
   "execution_count": 82,
   "id": "cac239c3",
   "metadata": {},
   "outputs": [
    {
     "name": "stdout",
     "output_type": "stream",
     "text": [
      "enter10L\n"
     ]
    },
    {
     "data": {
      "text/html": [
       "'character'"
      ],
      "text/latex": [
       "'character'"
      ],
      "text/markdown": [
       "'character'"
      ],
      "text/plain": [
       "[1] \"character\""
      ]
     },
     "metadata": {},
     "output_type": "display_data"
    },
    {
     "name": "stdout",
     "output_type": "stream",
     "text": [
      "[1] \"10L\"\n"
     ]
    }
   ],
   "source": [
    "x=readline('enter')\n",
    "class(x)\n",
    "print(x)"
   ]
  },
  {
   "cell_type": "code",
   "execution_count": 86,
   "id": "46e91b44",
   "metadata": {
    "scrolled": true
   },
   "outputs": [
    {
     "name": "stdout",
     "output_type": "stream",
     "text": [
      "     [,1] [,2] [,3]\n",
      "[1,]    1    4    1\n",
      "[2,]    2    5    2\n",
      "[3,]    3    6    3\n"
     ]
    }
   ],
   "source": [
    "a=array(c(1,2,3,4,5,6),dim=c(3,3))\n",
    "print(a)"
   ]
  },
  {
   "cell_type": "code",
   "execution_count": 94,
   "id": "f7399c91",
   "metadata": {},
   "outputs": [
    {
     "name": "stdout",
     "output_type": "stream",
     "text": [
      " [1]  1  2  3  4 11 22 33 44 55 66\n"
     ]
    }
   ],
   "source": [
    "v1=c(1,2,3,4)\n",
    "v2=c(11,22,33,44,55,66)\n",
    "print(c(v1,v2))#combines 2 vector"
   ]
  },
  {
   "cell_type": "markdown",
   "id": "ef427ea5",
   "metadata": {},
   "source": [
    "## Creating matrixes using array method"
   ]
  },
  {
   "cell_type": "code",
   "execution_count": 106,
   "id": "81e47c8b",
   "metadata": {},
   "outputs": [
    {
     "data": {
      "text/html": [
       "<table>\n",
       "<tbody>\n",
       "\t<tr><td>1 </td><td> 4</td><td>33</td></tr>\n",
       "\t<tr><td>2 </td><td>11</td><td>44</td></tr>\n",
       "\t<tr><td>3 </td><td>22</td><td>55</td></tr>\n",
       "</tbody>\n",
       "</table>\n"
      ],
      "text/latex": [
       "\\begin{tabular}{lll}\n",
       "\t 1  &  4 & 33\\\\\n",
       "\t 2  & 11 & 44\\\\\n",
       "\t 3  & 22 & 55\\\\\n",
       "\\end{tabular}\n"
      ],
      "text/markdown": [
       "\n",
       "| 1  |  4 | 33 |\n",
       "| 2  | 11 | 44 |\n",
       "| 3  | 22 | 55 |\n",
       "\n"
      ],
      "text/plain": [
       "     [,1] [,2] [,3]\n",
       "[1,] 1     4   33  \n",
       "[2,] 2    11   44  \n",
       "[3,] 3    22   55  "
      ]
     },
     "metadata": {},
     "output_type": "display_data"
    },
    {
     "name": "stdout",
     "output_type": "stream",
     "text": [
      "     [,1] [,2] [,3]\n",
      "[1,]    1    4   33\n",
      "[2,]    2   11   44\n",
      "[3,]    3   22   55\n"
     ]
    },
    {
     "data": {
      "text/html": [
       "<ol class=list-inline>\n",
       "\t<li>1</li>\n",
       "\t<li>2</li>\n",
       "\t<li>3</li>\n",
       "\t<li>4</li>\n",
       "\t<li>11</li>\n",
       "\t<li>22</li>\n",
       "\t<li>33</li>\n",
       "\t<li>44</li>\n",
       "\t<li>55</li>\n",
       "\t<li>66</li>\n",
       "\t<li>1</li>\n",
       "\t<li>2</li>\n",
       "\t<li>3</li>\n",
       "\t<li>4</li>\n",
       "\t<li>11</li>\n",
       "\t<li>22</li>\n",
       "\t<li>33</li>\n",
       "\t<li>44</li>\n",
       "</ol>\n"
      ],
      "text/latex": [
       "\\begin{enumerate*}\n",
       "\\item 1\n",
       "\\item 2\n",
       "\\item 3\n",
       "\\item 4\n",
       "\\item 11\n",
       "\\item 22\n",
       "\\item 33\n",
       "\\item 44\n",
       "\\item 55\n",
       "\\item 66\n",
       "\\item 1\n",
       "\\item 2\n",
       "\\item 3\n",
       "\\item 4\n",
       "\\item 11\n",
       "\\item 22\n",
       "\\item 33\n",
       "\\item 44\n",
       "\\end{enumerate*}\n"
      ],
      "text/markdown": [
       "1. 1\n",
       "2. 2\n",
       "3. 3\n",
       "4. 4\n",
       "5. 11\n",
       "6. 22\n",
       "7. 33\n",
       "8. 44\n",
       "9. 55\n",
       "10. 66\n",
       "11. 1\n",
       "12. 2\n",
       "13. 3\n",
       "14. 4\n",
       "15. 11\n",
       "16. 22\n",
       "17. 33\n",
       "18. 44\n",
       "\n",
       "\n"
      ],
      "text/plain": [
       ", , 1\n",
       "\n",
       "     [,1] [,2] [,3]\n",
       "[1,]    1    4   33\n",
       "[2,]    2   11   44\n",
       "[3,]    3   22   55\n",
       "\n",
       ", , 2\n",
       "\n",
       "     [,1] [,2] [,3]\n",
       "[1,]   66    3   22\n",
       "[2,]    1    4   33\n",
       "[3,]    2   11   44\n"
      ]
     },
     "metadata": {},
     "output_type": "display_data"
    },
    {
     "name": "stdout",
     "output_type": "stream",
     "text": [
      ", , 1\n",
      "\n",
      "     [,1] [,2] [,3]\n",
      "[1,]    1    4   33\n",
      "[2,]    2   11   44\n",
      "[3,]    3   22   55\n",
      "\n",
      ", , 2\n",
      "\n",
      "     [,1] [,2] [,3]\n",
      "[1,]   66    3   22\n",
      "[2,]    1    4   33\n",
      "[3,]    2   11   44\n",
      "\n"
     ]
    }
   ],
   "source": [
    "# create an array of two 3x3 matrix using two given vector\n",
    "\n",
    "matrix=array(c(v1,v2),dim=c(3,3))\n",
    "matrix\n",
    "print(matrix)\n",
    "#if u want 2 matrices\n",
    "matrix=array(c(v1,v2),dim=c(3,3,2))#add another paremter\n",
    "matrix#wont work properly\n",
    "print(matrix)"
   ]
  },
  {
   "cell_type": "code",
   "execution_count": 120,
   "id": "49e3dbdc",
   "metadata": {},
   "outputs": [
    {
     "name": "stdout",
     "output_type": "stream",
     "text": [
      "[1]  1  4 33\n",
      "[1]  3  4 11\n"
     ]
    }
   ],
   "source": [
    "#print 2nd row of 2nd matrix of an array\n",
    "\n",
    "print(matrix[2,,2])#parameters row column matrix's no\n",
    "\n",
    "print(matrix[,2,2])#2nd column of 2nd matrix"
   ]
  },
  {
   "cell_type": "code",
   "execution_count": 104,
   "id": "df0d8756",
   "metadata": {},
   "outputs": [
    {
     "name": "stdout",
     "output_type": "stream",
     "text": [
      "[1] 55\n"
     ]
    }
   ],
   "source": [
    "#print 3rd row of 3rd column of 3rd matrix of an array\n",
    "\n",
    "print(matrix[3,3,1])#parameters row column matrix's no"
   ]
  },
  {
   "cell_type": "code",
   "execution_count": 118,
   "id": "144dd442",
   "metadata": {},
   "outputs": [
    {
     "data": {
      "text/html": [
       "<table>\n",
       "<tbody>\n",
       "\t<tr><td>52</td><td>62</td><td>72</td></tr>\n",
       "\t<tr><td>54</td><td>64</td><td>74</td></tr>\n",
       "\t<tr><td>56</td><td>66</td><td>76</td></tr>\n",
       "\t<tr><td>58</td><td>68</td><td>78</td></tr>\n",
       "\t<tr><td>60</td><td>70</td><td>80</td></tr>\n",
       "</tbody>\n",
       "</table>\n"
      ],
      "text/latex": [
       "\\begin{tabular}{lll}\n",
       "\t 52 & 62 & 72\\\\\n",
       "\t 54 & 64 & 74\\\\\n",
       "\t 56 & 66 & 76\\\\\n",
       "\t 58 & 68 & 78\\\\\n",
       "\t 60 & 70 & 80\\\\\n",
       "\\end{tabular}\n"
      ],
      "text/markdown": [
       "\n",
       "| 52 | 62 | 72 |\n",
       "| 54 | 64 | 74 |\n",
       "| 56 | 66 | 76 |\n",
       "| 58 | 68 | 78 |\n",
       "| 60 | 70 | 80 |\n",
       "\n"
      ],
      "text/plain": [
       "     [,1] [,2] [,3]\n",
       "[1,] 52   62   72  \n",
       "[2,] 54   64   74  \n",
       "[3,] 56   66   76  \n",
       "[4,] 58   68   78  \n",
       "[5,] 60   70   80  "
      ]
     },
     "metadata": {},
     "output_type": "display_data"
    }
   ],
   "source": [
    "#write an R program to create 2 dimensional 5x3 array of sequence of even integers greater than 50\n",
    "evens=array(seq(from=52,length.out=15,by=2),dim=c(5,3))\n",
    "evens"
   ]
  },
  {
   "cell_type": "markdown",
   "id": "fefa8712",
   "metadata": {},
   "source": [
    "## Creating matrices using Matrix method"
   ]
  },
  {
   "cell_type": "code",
   "execution_count": 123,
   "id": "df65b506",
   "metadata": {},
   "outputs": [
    {
     "data": {
      "text/html": [
       "<table>\n",
       "<tbody>\n",
       "\t<tr><td> 1</td><td> 2</td><td> 3</td><td> 4</td></tr>\n",
       "\t<tr><td> 5</td><td> 6</td><td> 7</td><td> 8</td></tr>\n",
       "\t<tr><td> 9</td><td>10</td><td>11</td><td>12</td></tr>\n",
       "\t<tr><td>13</td><td>14</td><td>15</td><td>16</td></tr>\n",
       "</tbody>\n",
       "</table>\n"
      ],
      "text/latex": [
       "\\begin{tabular}{llll}\n",
       "\t  1 &  2 &  3 &  4\\\\\n",
       "\t  5 &  6 &  7 &  8\\\\\n",
       "\t  9 & 10 & 11 & 12\\\\\n",
       "\t 13 & 14 & 15 & 16\\\\\n",
       "\\end{tabular}\n"
      ],
      "text/markdown": [
       "\n",
       "|  1 |  2 |  3 |  4 |\n",
       "|  5 |  6 |  7 |  8 |\n",
       "|  9 | 10 | 11 | 12 |\n",
       "| 13 | 14 | 15 | 16 |\n",
       "\n"
      ],
      "text/plain": [
       "     [,1] [,2] [,3] [,4]\n",
       "[1,]  1    2    3    4  \n",
       "[2,]  5    6    7    8  \n",
       "[3,]  9   10   11   12  \n",
       "[4,] 13   14   15   16  "
      ]
     },
     "metadata": {},
     "output_type": "display_data"
    },
    {
     "data": {
      "text/html": [
       "<table>\n",
       "<tbody>\n",
       "\t<tr><td>1 </td><td>5 </td><td> 9</td><td>13</td></tr>\n",
       "\t<tr><td>2 </td><td>6 </td><td>10</td><td>14</td></tr>\n",
       "\t<tr><td>3 </td><td>7 </td><td>11</td><td>15</td></tr>\n",
       "\t<tr><td>4 </td><td>8 </td><td>12</td><td>16</td></tr>\n",
       "</tbody>\n",
       "</table>\n"
      ],
      "text/latex": [
       "\\begin{tabular}{llll}\n",
       "\t 1  & 5  &  9 & 13\\\\\n",
       "\t 2  & 6  & 10 & 14\\\\\n",
       "\t 3  & 7  & 11 & 15\\\\\n",
       "\t 4  & 8  & 12 & 16\\\\\n",
       "\\end{tabular}\n"
      ],
      "text/markdown": [
       "\n",
       "| 1  | 5  |  9 | 13 |\n",
       "| 2  | 6  | 10 | 14 |\n",
       "| 3  | 7  | 11 | 15 |\n",
       "| 4  | 8  | 12 | 16 |\n",
       "\n"
      ],
      "text/plain": [
       "     [,1] [,2] [,3] [,4]\n",
       "[1,] 1    5     9   13  \n",
       "[2,] 2    6    10   14  \n",
       "[3,] 3    7    11   15  \n",
       "[4,] 4    8    12   16  "
      ]
     },
     "metadata": {},
     "output_type": "display_data"
    }
   ],
   "source": [
    "matrix=matrix(c(1:16),nrow=4,ncol=4,byrow=TRUE)\n",
    "matrix\n",
    "matrix=matrix(c(1:16),nrow=4,ncol=4,byrow=FALSE)\n",
    "matrix"
   ]
  },
  {
   "cell_type": "code",
   "execution_count": 128,
   "id": "b5d6cb93",
   "metadata": {},
   "outputs": [
    {
     "data": {
      "text/html": [
       "<table>\n",
       "<thead><tr><th></th><th scope=col>c1</th><th scope=col>c2</th><th scope=col>c3</th><th scope=col>c4</th></tr></thead>\n",
       "<tbody>\n",
       "\t<tr><th scope=row>r1</th><td> 1</td><td> 2</td><td> 3</td><td> 4</td></tr>\n",
       "\t<tr><th scope=row>r2</th><td> 5</td><td> 6</td><td> 7</td><td> 8</td></tr>\n",
       "\t<tr><th scope=row>r3</th><td> 9</td><td>10</td><td>11</td><td>12</td></tr>\n",
       "\t<tr><th scope=row>r4</th><td>13</td><td>14</td><td>15</td><td>16</td></tr>\n",
       "</tbody>\n",
       "</table>\n"
      ],
      "text/latex": [
       "\\begin{tabular}{r|llll}\n",
       "  & c1 & c2 & c3 & c4\\\\\n",
       "\\hline\n",
       "\tr1 &  1 &  2 &  3 &  4\\\\\n",
       "\tr2 &  5 &  6 &  7 &  8\\\\\n",
       "\tr3 &  9 & 10 & 11 & 12\\\\\n",
       "\tr4 & 13 & 14 & 15 & 16\\\\\n",
       "\\end{tabular}\n"
      ],
      "text/markdown": [
       "\n",
       "| <!--/--> | c1 | c2 | c3 | c4 |\n",
       "|---|---|---|---|---|\n",
       "| r1 |  1 |  2 |  3 |  4 |\n",
       "| r2 |  5 |  6 |  7 |  8 |\n",
       "| r3 |  9 | 10 | 11 | 12 |\n",
       "| r4 | 13 | 14 | 15 | 16 |\n",
       "\n"
      ],
      "text/plain": [
       "   c1 c2 c3 c4\n",
       "r1  1  2  3  4\n",
       "r2  5  6  7  8\n",
       "r3  9 10 11 12\n",
       "r4 13 14 15 16"
      ]
     },
     "metadata": {},
     "output_type": "display_data"
    },
    {
     "name": "stderr",
     "output_type": "stream",
     "text": [
      "Warning message in matrix(c(1:16), nrow = 5, ncol = 5, byrow = TRUE, dimnames = list(rname, :\n",
      "\"data length [16] is not a sub-multiple or multiple of the number of rows [5]\""
     ]
    },
    {
     "ename": "ERROR",
     "evalue": "Error in matrix(c(1:16), nrow = 5, ncol = 5, byrow = TRUE, dimnames = list(rname, : length of 'dimnames' [1] not equal to array extent\n",
     "output_type": "error",
     "traceback": [
      "Error in matrix(c(1:16), nrow = 5, ncol = 5, byrow = TRUE, dimnames = list(rname, : length of 'dimnames' [1] not equal to array extent\nTraceback:\n",
      "1. matrix(c(1:16), nrow = 5, ncol = 5, byrow = TRUE, dimnames = list(rname, \n .     cname))"
     ]
    }
   ],
   "source": [
    "rname=c('r1','r2','r3','r4')\n",
    "cname=c('c1','c2','c3','c4')\n",
    "matrix=matrix(c(1:16),nrow=4,ncol=4,byrow=TRUE,dimnames=list(rname,cname))#row and column names always passed as list\n",
    "matrix\n",
    "#here we can't specify no of columns and rows more than available elements in the vector\n",
    "matrix(c(1:16),nrow=5,ncol=5,byrow=TRUE,dimnames=list(rname,cname))#this wont work"
   ]
  },
  {
   "cell_type": "code",
   "execution_count": 134,
   "id": "26294537",
   "metadata": {},
   "outputs": [
    {
     "data": {
      "text/html": [
       "<dl class=dl-horizontal>\n",
       "\t<dt>c1</dt>\n",
       "\t\t<dd>5</dd>\n",
       "\t<dt>c2</dt>\n",
       "\t\t<dd>6</dd>\n",
       "\t<dt>c3</dt>\n",
       "\t\t<dd>7</dd>\n",
       "\t<dt>c4</dt>\n",
       "\t\t<dd>8</dd>\n",
       "</dl>\n"
      ],
      "text/latex": [
       "\\begin{description*}\n",
       "\\item[c1] 5\n",
       "\\item[c2] 6\n",
       "\\item[c3] 7\n",
       "\\item[c4] 8\n",
       "\\end{description*}\n"
      ],
      "text/markdown": [
       "c1\n",
       ":   5c2\n",
       ":   6c3\n",
       ":   7c4\n",
       ":   8\n",
       "\n"
      ],
      "text/plain": [
       "c1 c2 c3 c4 \n",
       " 5  6  7  8 "
      ]
     },
     "metadata": {},
     "output_type": "display_data"
    },
    {
     "data": {
      "text/html": [
       "<dl class=dl-horizontal>\n",
       "\t<dt>r1</dt>\n",
       "\t\t<dd>2</dd>\n",
       "\t<dt>r2</dt>\n",
       "\t\t<dd>6</dd>\n",
       "\t<dt>r3</dt>\n",
       "\t\t<dd>10</dd>\n",
       "\t<dt>r4</dt>\n",
       "\t\t<dd>14</dd>\n",
       "</dl>\n"
      ],
      "text/latex": [
       "\\begin{description*}\n",
       "\\item[r1] 2\n",
       "\\item[r2] 6\n",
       "\\item[r3] 10\n",
       "\\item[r4] 14\n",
       "\\end{description*}\n"
      ],
      "text/markdown": [
       "r1\n",
       ":   2r2\n",
       ":   6r3\n",
       ":   10r4\n",
       ":   14\n",
       "\n"
      ],
      "text/plain": [
       "r1 r2 r3 r4 \n",
       " 2  6 10 14 "
      ]
     },
     "metadata": {},
     "output_type": "display_data"
    },
    {
     "data": {
      "text/html": [
       "6"
      ],
      "text/latex": [
       "6"
      ],
      "text/markdown": [
       "6"
      ],
      "text/plain": [
       "[1] 6"
      ]
     },
     "metadata": {},
     "output_type": "display_data"
    },
    {
     "data": {
      "text/html": [
       "5"
      ],
      "text/latex": [
       "5"
      ],
      "text/markdown": [
       "5"
      ],
      "text/plain": [
       "[1] 5"
      ]
     },
     "metadata": {},
     "output_type": "display_data"
    }
   ],
   "source": [
    "matrix[2,]#2nd row\n",
    "matrix[,2]#2nd column\n",
    "matrix[2,2]#2nd row 2nd column\n",
    "matrix[2]"
   ]
  },
  {
   "cell_type": "code",
   "execution_count": 137,
   "id": "ac3d96e3",
   "metadata": {
    "scrolled": true
   },
   "outputs": [
    {
     "data": {
      "text/html": [
       "<ol class=list-inline>\n",
       "\t<li>'1'</li>\n",
       "\t<li>'5'</li>\n",
       "\t<li>'9'</li>\n",
       "\t<li>'13'</li>\n",
       "\t<li>'2'</li>\n",
       "\t<li>'6'</li>\n",
       "\t<li>'10'</li>\n",
       "\t<li>'14'</li>\n",
       "\t<li>'3'</li>\n",
       "\t<li>'7'</li>\n",
       "\t<li>'11'</li>\n",
       "\t<li>'15'</li>\n",
       "\t<li>'4'</li>\n",
       "\t<li>'8'</li>\n",
       "\t<li>'12'</li>\n",
       "\t<li>'16'</li>\n",
       "</ol>\n"
      ],
      "text/latex": [
       "\\begin{enumerate*}\n",
       "\\item '1'\n",
       "\\item '5'\n",
       "\\item '9'\n",
       "\\item '13'\n",
       "\\item '2'\n",
       "\\item '6'\n",
       "\\item '10'\n",
       "\\item '14'\n",
       "\\item '3'\n",
       "\\item '7'\n",
       "\\item '11'\n",
       "\\item '15'\n",
       "\\item '4'\n",
       "\\item '8'\n",
       "\\item '12'\n",
       "\\item '16'\n",
       "\\end{enumerate*}\n"
      ],
      "text/markdown": [
       "1. '1'\n",
       "2. '5'\n",
       "3. '9'\n",
       "4. '13'\n",
       "5. '2'\n",
       "6. '6'\n",
       "7. '10'\n",
       "8. '14'\n",
       "9. '3'\n",
       "10. '7'\n",
       "11. '11'\n",
       "12. '15'\n",
       "13. '4'\n",
       "14. '8'\n",
       "15. '12'\n",
       "16. '16'\n",
       "\n",
       "\n"
      ],
      "text/plain": [
       " [1] \"1\"  \"5\"  \"9\"  \"13\" \"2\"  \"6\"  \"10\" \"14\" \"3\"  \"7\"  \"11\" \"15\" \"4\"  \"8\"  \"12\"\n",
       "[16] \"16\""
      ]
     },
     "metadata": {},
     "output_type": "display_data"
    }
   ],
   "source": [
    "paste(matrix)"
   ]
  },
  {
   "cell_type": "markdown",
   "id": "063a6ff4",
   "metadata": {},
   "source": [
    "### Factor"
   ]
  },
  {
   "cell_type": "code",
   "execution_count": 144,
   "id": "82991b09",
   "metadata": {},
   "outputs": [
    {
     "name": "stdout",
     "output_type": "stream",
     "text": [
      "[1] male   female male   male  \n",
      "Levels: female male\n"
     ]
    },
    {
     "data": {
      "text/html": [
       "<ol class=list-inline>\n",
       "\t<li>'male'</li>\n",
       "\t<li>'female'</li>\n",
       "\t<li>'male'</li>\n",
       "\t<li>'male'</li>\n",
       "</ol>\n"
      ],
      "text/latex": [
       "\\begin{enumerate*}\n",
       "\\item 'male'\n",
       "\\item 'female'\n",
       "\\item 'male'\n",
       "\\item 'male'\n",
       "\\end{enumerate*}\n"
      ],
      "text/markdown": [
       "1. 'male'\n",
       "2. 'female'\n",
       "3. 'male'\n",
       "4. 'male'\n",
       "\n",
       "\n"
      ],
      "text/plain": [
       "[1] \"male\"   \"female\" \"male\"   \"male\"  "
      ]
     },
     "metadata": {},
     "output_type": "display_data"
    },
    {
     "data": {
      "text/html": [
       "<ol class=list-inline>\n",
       "\t<li>male</li>\n",
       "\t<li>female</li>\n",
       "\t<li>male</li>\n",
       "\t<li>male</li>\n",
       "</ol>\n",
       "\n",
       "<details>\n",
       "\t<summary style=display:list-item;cursor:pointer>\n",
       "\t\t<strong>Levels</strong>:\n",
       "\t</summary>\n",
       "\t<ol class=list-inline>\n",
       "\t\t<li>'female'</li>\n",
       "\t\t<li>'male'</li>\n",
       "\t</ol>\n",
       "</details>"
      ],
      "text/latex": [
       "\\begin{enumerate*}\n",
       "\\item male\n",
       "\\item female\n",
       "\\item male\n",
       "\\item male\n",
       "\\end{enumerate*}\n",
       "\n",
       "\\emph{Levels}: \\begin{enumerate*}\n",
       "\\item 'female'\n",
       "\\item 'male'\n",
       "\\end{enumerate*}\n"
      ],
      "text/markdown": [
       "1. male\n",
       "2. female\n",
       "3. male\n",
       "4. male\n",
       "\n",
       "\n",
       "\n",
       "**Levels**: 1. 'female'\n",
       "2. 'male'\n",
       "\n",
       "\n"
      ],
      "text/plain": [
       "[1] male   female male   male  \n",
       "Levels: female male"
      ]
     },
     "metadata": {},
     "output_type": "display_data"
    }
   ],
   "source": [
    "a=factor(c('male','female','male','male'))\n",
    "print(a)\n",
    "paste(a)\n",
    "a"
   ]
  },
  {
   "cell_type": "code",
   "execution_count": 140,
   "id": "953c18f6",
   "metadata": {
    "scrolled": true
   },
   "outputs": [
    {
     "data": {
      "text/plain": [
       "a\n",
       "female   male \n",
       "     1      3 "
      ]
     },
     "metadata": {},
     "output_type": "display_data"
    }
   ],
   "source": [
    "table(a)"
   ]
  },
  {
   "cell_type": "code",
   "execution_count": 141,
   "id": "cc49f039",
   "metadata": {
    "scrolled": false
   },
   "outputs": [
    {
     "data": {
      "text/html": [
       "<ol class=list-inline>\n",
       "\t<li>'female'</li>\n",
       "\t<li>'male'</li>\n",
       "</ol>\n"
      ],
      "text/latex": [
       "\\begin{enumerate*}\n",
       "\\item 'female'\n",
       "\\item 'male'\n",
       "\\end{enumerate*}\n"
      ],
      "text/markdown": [
       "1. 'female'\n",
       "2. 'male'\n",
       "\n",
       "\n"
      ],
      "text/plain": [
       "[1] \"female\" \"male\"  "
      ]
     },
     "metadata": {},
     "output_type": "display_data"
    }
   ],
   "source": [
    "levels(a)"
   ]
  },
  {
   "cell_type": "code",
   "execution_count": 145,
   "id": "a5f863a2",
   "metadata": {
    "scrolled": true
   },
   "outputs": [
    {
     "name": "stdout",
     "output_type": "stream",
     "text": [
      "[1] \"male\"\n",
      "[1] \"female\"\n",
      "[1] \"male\"\n",
      "[1] \"male\"\n"
     ]
    }
   ],
   "source": [
    "for (i in a){\n",
    "    print(i)\n",
    "}"
   ]
  },
  {
   "cell_type": "code",
   "execution_count": 163,
   "id": "22bcce34",
   "metadata": {
    "scrolled": true
   },
   "outputs": [
    {
     "name": "stdout",
     "output_type": "stream",
     "text": [
      "Enter no. of inputs: 3\n",
      "Enter element no: 1 :kousa\n",
      "Enter element no: 2 :mygi\n",
      "Enter element no: 3 :ange\n"
     ]
    },
    {
     "data": {
      "text/html": [
       "<ol>\n",
       "\t<li>'kousa'</li>\n",
       "\t<li>'mygi'</li>\n",
       "\t<li>'ange'</li>\n",
       "</ol>\n"
      ],
      "text/latex": [
       "\\begin{enumerate}\n",
       "\\item 'kousa'\n",
       "\\item 'mygi'\n",
       "\\item 'ange'\n",
       "\\end{enumerate}\n"
      ],
      "text/markdown": [
       "1. 'kousa'\n",
       "2. 'mygi'\n",
       "3. 'ange'\n",
       "\n",
       "\n"
      ],
      "text/plain": [
       "[[1]]\n",
       "[1] \"kousa\"\n",
       "\n",
       "[[2]]\n",
       "[1] \"mygi\"\n",
       "\n",
       "[[3]]\n",
       "[1] \"ange\"\n"
      ]
     },
     "metadata": {},
     "output_type": "display_data"
    }
   ],
   "source": [
    "element=list()\n",
    "n=as.integer(readline('Enter no. of inputs: '))\n",
    "for(i in seq(n))#getting multiple inputs\n",
    "{#no indentation\n",
    "    element[i]=readline(paste('Enter element no:',i,':'))\n",
    "}\n",
    "element"
   ]
  },
  {
   "cell_type": "code",
   "execution_count": 7,
   "id": "c2559ec3",
   "metadata": {},
   "outputs": [
    {
     "data": {
      "text/html": [
       "<table>\n",
       "<thead><tr><th scope=col>emp_id</th><th scope=col>emp_name</th><th scope=col>emp_date</th><th scope=col>gen</th></tr></thead>\n",
       "<tbody>\n",
       "\t<tr><td>3         </td><td>a         </td><td>2011-01-11</td><td>f         </td></tr>\n",
       "\t<tr><td>1         </td><td>b         </td><td>2011-02-22</td><td>f         </td></tr>\n",
       "\t<tr><td>2         </td><td>c         </td><td>2013-03-22</td><td>m         </td></tr>\n",
       "</tbody>\n",
       "</table>\n"
      ],
      "text/latex": [
       "\\begin{tabular}{r|llll}\n",
       " emp\\_id & emp\\_name & emp\\_date & gen\\\\\n",
       "\\hline\n",
       "\t 3          & a          & 2011-01-11 & f         \\\\\n",
       "\t 1          & b          & 2011-02-22 & f         \\\\\n",
       "\t 2          & c          & 2013-03-22 & m         \\\\\n",
       "\\end{tabular}\n"
      ],
      "text/markdown": [
       "\n",
       "| emp_id | emp_name | emp_date | gen |\n",
       "|---|---|---|---|\n",
       "| 3          | a          | 2011-01-11 | f          |\n",
       "| 1          | b          | 2011-02-22 | f          |\n",
       "| 2          | c          | 2013-03-22 | m          |\n",
       "\n"
      ],
      "text/plain": [
       "  emp_id emp_name emp_date   gen\n",
       "1 3      a        2011-01-11 f  \n",
       "2 1      b        2011-02-22 f  \n",
       "3 2      c        2013-03-22 m  "
      ]
     },
     "metadata": {},
     "output_type": "display_data"
    }
   ],
   "source": [
    "df=data.frame(emp_id=c(3,1,2),emp_name=c('a','b','c'),emp_date=as.Date(c('2011-1-11','2011-2-22','2013-3-22')),gen=factor(c('f','f','m')))\n",
    "df"
   ]
  },
  {
   "cell_type": "code",
   "execution_count": 212,
   "id": "2bf88030",
   "metadata": {},
   "outputs": [
    {
     "data": {
      "text/html": [
       "<ol class=list-inline>\n",
       "\t<li>3</li>\n",
       "\t<li>1</li>\n",
       "\t<li>2</li>\n",
       "</ol>\n"
      ],
      "text/latex": [
       "\\begin{enumerate*}\n",
       "\\item 3\n",
       "\\item 1\n",
       "\\item 2\n",
       "\\end{enumerate*}\n"
      ],
      "text/markdown": [
       "1. 3\n",
       "2. 1\n",
       "3. 2\n",
       "\n",
       "\n"
      ],
      "text/plain": [
       "[1] 3 1 2"
      ]
     },
     "metadata": {},
     "output_type": "display_data"
    }
   ],
   "source": [
    "df$emp_id"
   ]
  },
  {
   "cell_type": "code",
   "execution_count": 213,
   "id": "e2ecbc83",
   "metadata": {},
   "outputs": [
    {
     "data": {
      "text/html": [
       "<ol class=list-inline>\n",
       "\t<li>f</li>\n",
       "\t<li>f</li>\n",
       "\t<li>m</li>\n",
       "</ol>\n",
       "\n",
       "<details>\n",
       "\t<summary style=display:list-item;cursor:pointer>\n",
       "\t\t<strong>Levels</strong>:\n",
       "\t</summary>\n",
       "\t<ol class=list-inline>\n",
       "\t\t<li>'f'</li>\n",
       "\t\t<li>'m'</li>\n",
       "\t</ol>\n",
       "</details>"
      ],
      "text/latex": [
       "\\begin{enumerate*}\n",
       "\\item f\n",
       "\\item f\n",
       "\\item m\n",
       "\\end{enumerate*}\n",
       "\n",
       "\\emph{Levels}: \\begin{enumerate*}\n",
       "\\item 'f'\n",
       "\\item 'm'\n",
       "\\end{enumerate*}\n"
      ],
      "text/markdown": [
       "1. f\n",
       "2. f\n",
       "3. m\n",
       "\n",
       "\n",
       "\n",
       "**Levels**: 1. 'f'\n",
       "2. 'm'\n",
       "\n",
       "\n"
      ],
      "text/plain": [
       "[1] f f m\n",
       "Levels: f m"
      ]
     },
     "metadata": {},
     "output_type": "display_data"
    }
   ],
   "source": [
    "df$gen"
   ]
  },
  {
   "cell_type": "code",
   "execution_count": 214,
   "id": "5585891c",
   "metadata": {},
   "outputs": [
    {
     "data": {
      "text/plain": [
       "\n",
       "f m \n",
       "2 1 "
      ]
     },
     "metadata": {},
     "output_type": "display_data"
    }
   ],
   "source": [
    "table(df$gen)"
   ]
  },
  {
   "cell_type": "code",
   "execution_count": 215,
   "id": "3ec27d4b",
   "metadata": {},
   "outputs": [
    {
     "data": {
      "text/html": [
       "<ol class=list-inline>\n",
       "\t<li><time datetime=\"2011-01-11\">2011-01-11</time></li>\n",
       "\t<li><time datetime=\"2011-02-22\">2011-02-22</time></li>\n",
       "\t<li><time datetime=\"2013-03-22\">2013-03-22</time></li>\n",
       "</ol>\n"
      ],
      "text/latex": [
       "\\begin{enumerate*}\n",
       "\\item 2011-01-11\n",
       "\\item 2011-02-22\n",
       "\\item 2013-03-22\n",
       "\\end{enumerate*}\n"
      ],
      "text/markdown": [
       "1. 2011-01-11\n",
       "2. 2011-02-22\n",
       "3. 2013-03-22\n",
       "\n",
       "\n"
      ],
      "text/plain": [
       "[1] \"2011-01-11\" \"2011-02-22\" \"2013-03-22\""
      ]
     },
     "metadata": {},
     "output_type": "display_data"
    }
   ],
   "source": [
    "df$emp_date"
   ]
  },
  {
   "cell_type": "code",
   "execution_count": 216,
   "id": "d8505b41",
   "metadata": {},
   "outputs": [
    {
     "name": "stdout",
     "output_type": "stream",
     "text": [
      "'data.frame':\t3 obs. of  4 variables:\n",
      " $ emp_id  : num  3 1 2\n",
      " $ emp_name: Factor w/ 3 levels \"a\",\"b\",\"c\": 1 2 3\n",
      " $ emp_date: Date, format: \"2011-01-11\" \"2011-02-22\" ...\n",
      " $ gen     : Factor w/ 2 levels \"f\",\"m\": 1 1 2\n"
     ]
    }
   ],
   "source": [
    "str(df)#info structure"
   ]
  },
  {
   "cell_type": "code",
   "execution_count": 217,
   "id": "ecc9f92d",
   "metadata": {},
   "outputs": [
    {
     "data": {
      "text/plain": [
       "     emp_id    emp_name    emp_date          gen  \n",
       " Min.   :1.0   a:1      Min.   :2011-01-11   f:2  \n",
       " 1st Qu.:1.5   b:1      1st Qu.:2011-02-01   m:1  \n",
       " Median :2.0   c:1      Median :2011-02-22        \n",
       " Mean   :2.0            Mean   :2011-10-19        \n",
       " 3rd Qu.:2.5            3rd Qu.:2012-03-07        \n",
       " Max.   :3.0            Max.   :2013-03-22        "
      ]
     },
     "metadata": {},
     "output_type": "display_data"
    }
   ],
   "source": [
    "summary(df)#statistical summary"
   ]
  },
  {
   "cell_type": "code",
   "execution_count": 218,
   "id": "32fd5520",
   "metadata": {},
   "outputs": [
    {
     "data": {
      "text/html": [
       "<table>\n",
       "<thead><tr><th scope=col>emp_name</th></tr></thead>\n",
       "<tbody>\n",
       "\t<tr><td>a</td></tr>\n",
       "\t<tr><td>b</td></tr>\n",
       "\t<tr><td>c</td></tr>\n",
       "</tbody>\n",
       "</table>\n"
      ],
      "text/latex": [
       "\\begin{tabular}{r|l}\n",
       " emp\\_name\\\\\n",
       "\\hline\n",
       "\t a\\\\\n",
       "\t b\\\\\n",
       "\t c\\\\\n",
       "\\end{tabular}\n"
      ],
      "text/markdown": [
       "\n",
       "| emp_name |\n",
       "|---|\n",
       "| a |\n",
       "| b |\n",
       "| c |\n",
       "\n"
      ],
      "text/plain": [
       "  emp_name\n",
       "1 a       \n",
       "2 b       \n",
       "3 c       "
      ]
     },
     "metadata": {},
     "output_type": "display_data"
    }
   ],
   "source": [
    "df[\"emp_name\"]#this is also fine"
   ]
  },
  {
   "cell_type": "code",
   "execution_count": 219,
   "id": "3a5a1b34",
   "metadata": {},
   "outputs": [
    {
     "data": {
      "text/html": [
       "<table>\n",
       "<thead><tr><th scope=col>emp_name</th><th scope=col>emp_date</th></tr></thead>\n",
       "<tbody>\n",
       "\t<tr><td>a         </td><td>2011-01-11</td></tr>\n",
       "\t<tr><td>b         </td><td>2011-02-22</td></tr>\n",
       "\t<tr><td>c         </td><td>2013-03-22</td></tr>\n",
       "</tbody>\n",
       "</table>\n"
      ],
      "text/latex": [
       "\\begin{tabular}{r|ll}\n",
       " emp\\_name & emp\\_date\\\\\n",
       "\\hline\n",
       "\t a          & 2011-01-11\\\\\n",
       "\t b          & 2011-02-22\\\\\n",
       "\t c          & 2013-03-22\\\\\n",
       "\\end{tabular}\n"
      ],
      "text/markdown": [
       "\n",
       "| emp_name | emp_date |\n",
       "|---|---|\n",
       "| a          | 2011-01-11 |\n",
       "| b          | 2011-02-22 |\n",
       "| c          | 2013-03-22 |\n",
       "\n"
      ],
      "text/plain": [
       "  emp_name emp_date  \n",
       "1 a        2011-01-11\n",
       "2 b        2011-02-22\n",
       "3 c        2013-03-22"
      ]
     },
     "metadata": {},
     "output_type": "display_data"
    }
   ],
   "source": [
    "df1=data.frame(df[\"emp_name\"],df[\"emp_date\"])\n",
    "df1"
   ]
  },
  {
   "cell_type": "code",
   "execution_count": 13,
   "id": "abd16b37",
   "metadata": {},
   "outputs": [
    {
     "data": {
      "text/html": [
       "<table>\n",
       "<thead><tr><th></th><th scope=col>emp_id</th><th scope=col>emp_name</th><th scope=col>emp_date</th><th scope=col>gen</th></tr></thead>\n",
       "<tbody>\n",
       "\t<tr><th scope=row>2</th><td>1         </td><td>b         </td><td>2011-02-22</td><td>f         </td></tr>\n",
       "\t<tr><th scope=row>3</th><td>2         </td><td>c         </td><td>2013-03-22</td><td>m         </td></tr>\n",
       "\t<tr><th scope=row>1</th><td>3         </td><td>a         </td><td>2011-01-11</td><td>f         </td></tr>\n",
       "</tbody>\n",
       "</table>\n"
      ],
      "text/latex": [
       "\\begin{tabular}{r|llll}\n",
       "  & emp\\_id & emp\\_name & emp\\_date & gen\\\\\n",
       "\\hline\n",
       "\t2 & 1          & b          & 2011-02-22 & f         \\\\\n",
       "\t3 & 2          & c          & 2013-03-22 & m         \\\\\n",
       "\t1 & 3          & a          & 2011-01-11 & f         \\\\\n",
       "\\end{tabular}\n"
      ],
      "text/markdown": [
       "\n",
       "| <!--/--> | emp_id | emp_name | emp_date | gen |\n",
       "|---|---|---|---|---|\n",
       "| 2 | 1          | b          | 2011-02-22 | f          |\n",
       "| 3 | 2          | c          | 2013-03-22 | m          |\n",
       "| 1 | 3          | a          | 2011-01-11 | f          |\n",
       "\n"
      ],
      "text/plain": [
       "  emp_id emp_name emp_date   gen\n",
       "2 1      b        2011-02-22 f  \n",
       "3 2      c        2013-03-22 m  \n",
       "1 3      a        2011-01-11 f  "
      ]
     },
     "metadata": {},
     "output_type": "display_data"
    }
   ],
   "source": [
    "#sorting\n",
    "df[with(df,order(c(emp_id))),]#as df[row,col] is syntax"
   ]
  },
  {
   "cell_type": "code",
   "execution_count": 14,
   "id": "bf53a48a",
   "metadata": {
    "scrolled": true
   },
   "outputs": [
    {
     "data": {
      "text/html": [
       "<table>\n",
       "<thead><tr><th scope=col>emp_id</th><th scope=col>emp_name</th><th scope=col>emp_date</th><th scope=col>gen</th></tr></thead>\n",
       "<tbody>\n",
       "\t<tr><td>3         </td><td>a         </td><td>2011-01-11</td><td>f         </td></tr>\n",
       "\t<tr><td>1         </td><td>b         </td><td>2011-02-22</td><td>f         </td></tr>\n",
       "\t<tr><td>2         </td><td>c         </td><td>2013-03-22</td><td>m         </td></tr>\n",
       "</tbody>\n",
       "</table>\n"
      ],
      "text/latex": [
       "\\begin{tabular}{r|llll}\n",
       " emp\\_id & emp\\_name & emp\\_date & gen\\\\\n",
       "\\hline\n",
       "\t 3          & a          & 2011-01-11 & f         \\\\\n",
       "\t 1          & b          & 2011-02-22 & f         \\\\\n",
       "\t 2          & c          & 2013-03-22 & m         \\\\\n",
       "\\end{tabular}\n"
      ],
      "text/markdown": [
       "\n",
       "| emp_id | emp_name | emp_date | gen |\n",
       "|---|---|---|---|\n",
       "| 3          | a          | 2011-01-11 | f          |\n",
       "| 1          | b          | 2011-02-22 | f          |\n",
       "| 2          | c          | 2013-03-22 | m          |\n",
       "\n"
      ],
      "text/plain": [
       "  emp_id emp_name emp_date   gen\n",
       "1 3      a        2011-01-11 f  \n",
       "2 1      b        2011-02-22 f  \n",
       "3 2      c        2013-03-22 m  "
      ]
     },
     "metadata": {},
     "output_type": "display_data"
    }
   ],
   "source": [
    "df"
   ]
  },
  {
   "cell_type": "markdown",
   "id": "fe4c3068",
   "metadata": {},
   "source": [
    "## Adding new Column"
   ]
  },
  {
   "cell_type": "code",
   "execution_count": 15,
   "id": "de6bf91e",
   "metadata": {},
   "outputs": [],
   "source": [
    "df['dept']=c('cse','maths','physics')"
   ]
  },
  {
   "cell_type": "code",
   "execution_count": 16,
   "id": "a735c78e",
   "metadata": {},
   "outputs": [
    {
     "data": {
      "text/html": [
       "<table>\n",
       "<thead><tr><th scope=col>emp_id</th><th scope=col>emp_name</th><th scope=col>emp_date</th><th scope=col>gen</th><th scope=col>dept</th></tr></thead>\n",
       "<tbody>\n",
       "\t<tr><td>3         </td><td>a         </td><td>2011-01-11</td><td>f         </td><td>cse       </td></tr>\n",
       "\t<tr><td>1         </td><td>b         </td><td>2011-02-22</td><td>f         </td><td>maths     </td></tr>\n",
       "\t<tr><td>2         </td><td>c         </td><td>2013-03-22</td><td>m         </td><td>physics   </td></tr>\n",
       "</tbody>\n",
       "</table>\n"
      ],
      "text/latex": [
       "\\begin{tabular}{r|lllll}\n",
       " emp\\_id & emp\\_name & emp\\_date & gen & dept\\\\\n",
       "\\hline\n",
       "\t 3          & a          & 2011-01-11 & f          & cse       \\\\\n",
       "\t 1          & b          & 2011-02-22 & f          & maths     \\\\\n",
       "\t 2          & c          & 2013-03-22 & m          & physics   \\\\\n",
       "\\end{tabular}\n"
      ],
      "text/markdown": [
       "\n",
       "| emp_id | emp_name | emp_date | gen | dept |\n",
       "|---|---|---|---|---|\n",
       "| 3          | a          | 2011-01-11 | f          | cse        |\n",
       "| 1          | b          | 2011-02-22 | f          | maths      |\n",
       "| 2          | c          | 2013-03-22 | m          | physics    |\n",
       "\n"
      ],
      "text/plain": [
       "  emp_id emp_name emp_date   gen dept   \n",
       "1 3      a        2011-01-11 f   cse    \n",
       "2 1      b        2011-02-22 f   maths  \n",
       "3 2      c        2013-03-22 m   physics"
      ]
     },
     "metadata": {},
     "output_type": "display_data"
    }
   ],
   "source": [
    "df"
   ]
  },
  {
   "cell_type": "markdown",
   "id": "c8918228",
   "metadata": {},
   "source": [
    "## Adding new Row"
   ]
  },
  {
   "cell_type": "code",
   "execution_count": 22,
   "id": "a28c0872",
   "metadata": {},
   "outputs": [
    {
     "data": {
      "text/html": [
       "<table>\n",
       "<thead><tr><th scope=col>emp_id</th><th scope=col>emp_name</th><th scope=col>emp_date</th><th scope=col>gen</th><th scope=col>dept</th></tr></thead>\n",
       "<tbody>\n",
       "\t<tr><td>3         </td><td>a         </td><td>2011-01-11</td><td>f         </td><td>cse       </td></tr>\n",
       "\t<tr><td>1         </td><td>b         </td><td>2011-02-22</td><td>f         </td><td>maths     </td></tr>\n",
       "\t<tr><td>2         </td><td>c         </td><td>2013-03-22</td><td>m         </td><td>physics   </td></tr>\n",
       "</tbody>\n",
       "</table>\n"
      ],
      "text/latex": [
       "\\begin{tabular}{r|lllll}\n",
       " emp\\_id & emp\\_name & emp\\_date & gen & dept\\\\\n",
       "\\hline\n",
       "\t 3          & a          & 2011-01-11 & f          & cse       \\\\\n",
       "\t 1          & b          & 2011-02-22 & f          & maths     \\\\\n",
       "\t 2          & c          & 2013-03-22 & m          & physics   \\\\\n",
       "\\end{tabular}\n"
      ],
      "text/markdown": [
       "\n",
       "| emp_id | emp_name | emp_date | gen | dept |\n",
       "|---|---|---|---|---|\n",
       "| 3          | a          | 2011-01-11 | f          | cse        |\n",
       "| 1          | b          | 2011-02-22 | f          | maths      |\n",
       "| 2          | c          | 2013-03-22 | m          | physics    |\n",
       "\n"
      ],
      "text/plain": [
       "  emp_id emp_name emp_date   gen dept   \n",
       "1 3      a        2011-01-11 f   cse    \n",
       "2 1      b        2011-02-22 f   maths  \n",
       "3 2      c        2013-03-22 m   physics"
      ]
     },
     "metadata": {},
     "output_type": "display_data"
    }
   ],
   "source": [
    "df1=data.frame(emp_id=c(3,1,2),emp_name=c('a','b','c'),emp_date=as.Date(c('2011-1-11','2011-2-22','2013-3-22')),gen=factor(c('f','f','m')),dept=c('cse','maths','physics'))\n",
    "df1"
   ]
  },
  {
   "cell_type": "code",
   "execution_count": 23,
   "id": "3a0b8213",
   "metadata": {},
   "outputs": [
    {
     "data": {
      "text/html": [
       "<table>\n",
       "<thead><tr><th scope=col>emp_id</th><th scope=col>emp_name</th><th scope=col>emp_date</th><th scope=col>gen</th><th scope=col>dept</th></tr></thead>\n",
       "<tbody>\n",
       "\t<tr><td>3         </td><td>a         </td><td>2011-01-11</td><td>f         </td><td>cse       </td></tr>\n",
       "\t<tr><td>1         </td><td>b         </td><td>2011-02-22</td><td>f         </td><td>maths     </td></tr>\n",
       "\t<tr><td>2         </td><td>c         </td><td>2013-03-22</td><td>m         </td><td>physics   </td></tr>\n",
       "\t<tr><td>3         </td><td>a         </td><td>2011-01-11</td><td>f         </td><td>cse       </td></tr>\n",
       "\t<tr><td>1         </td><td>b         </td><td>2011-02-22</td><td>f         </td><td>maths     </td></tr>\n",
       "\t<tr><td>2         </td><td>c         </td><td>2013-03-22</td><td>m         </td><td>physics   </td></tr>\n",
       "</tbody>\n",
       "</table>\n"
      ],
      "text/latex": [
       "\\begin{tabular}{r|lllll}\n",
       " emp\\_id & emp\\_name & emp\\_date & gen & dept\\\\\n",
       "\\hline\n",
       "\t 3          & a          & 2011-01-11 & f          & cse       \\\\\n",
       "\t 1          & b          & 2011-02-22 & f          & maths     \\\\\n",
       "\t 2          & c          & 2013-03-22 & m          & physics   \\\\\n",
       "\t 3          & a          & 2011-01-11 & f          & cse       \\\\\n",
       "\t 1          & b          & 2011-02-22 & f          & maths     \\\\\n",
       "\t 2          & c          & 2013-03-22 & m          & physics   \\\\\n",
       "\\end{tabular}\n"
      ],
      "text/markdown": [
       "\n",
       "| emp_id | emp_name | emp_date | gen | dept |\n",
       "|---|---|---|---|---|\n",
       "| 3          | a          | 2011-01-11 | f          | cse        |\n",
       "| 1          | b          | 2011-02-22 | f          | maths      |\n",
       "| 2          | c          | 2013-03-22 | m          | physics    |\n",
       "| 3          | a          | 2011-01-11 | f          | cse        |\n",
       "| 1          | b          | 2011-02-22 | f          | maths      |\n",
       "| 2          | c          | 2013-03-22 | m          | physics    |\n",
       "\n"
      ],
      "text/plain": [
       "  emp_id emp_name emp_date   gen dept   \n",
       "1 3      a        2011-01-11 f   cse    \n",
       "2 1      b        2011-02-22 f   maths  \n",
       "3 2      c        2013-03-22 m   physics\n",
       "4 3      a        2011-01-11 f   cse    \n",
       "5 1      b        2011-02-22 f   maths  \n",
       "6 2      c        2013-03-22 m   physics"
      ]
     },
     "metadata": {},
     "output_type": "display_data"
    }
   ],
   "source": [
    "rbind(df,df1)"
   ]
  },
  {
   "cell_type": "code",
   "execution_count": 26,
   "id": "e5169719",
   "metadata": {},
   "outputs": [
    {
     "data": {
      "text/html": [
       "<table>\n",
       "<thead><tr><th scope=col>emp_id</th><th scope=col>emp_name</th><th scope=col>emp_date</th><th scope=col>gen</th><th scope=col>dept</th></tr></thead>\n",
       "<tbody>\n",
       "\t<tr><td>3         </td><td>a         </td><td>2011-01-11</td><td>f         </td><td>cse       </td></tr>\n",
       "\t<tr><td>1         </td><td>b         </td><td>2011-02-22</td><td>f         </td><td>maths     </td></tr>\n",
       "\t<tr><td>2         </td><td>c         </td><td>2013-03-22</td><td>m         </td><td>physics   </td></tr>\n",
       "</tbody>\n",
       "</table>\n"
      ],
      "text/latex": [
       "\\begin{tabular}{r|lllll}\n",
       " emp\\_id & emp\\_name & emp\\_date & gen & dept\\\\\n",
       "\\hline\n",
       "\t 3          & a          & 2011-01-11 & f          & cse       \\\\\n",
       "\t 1          & b          & 2011-02-22 & f          & maths     \\\\\n",
       "\t 2          & c          & 2013-03-22 & m          & physics   \\\\\n",
       "\\end{tabular}\n"
      ],
      "text/markdown": [
       "\n",
       "| emp_id | emp_name | emp_date | gen | dept |\n",
       "|---|---|---|---|---|\n",
       "| 3          | a          | 2011-01-11 | f          | cse        |\n",
       "| 1          | b          | 2011-02-22 | f          | maths      |\n",
       "| 2          | c          | 2013-03-22 | m          | physics    |\n",
       "\n"
      ],
      "text/plain": [
       "  emp_id emp_name emp_date   gen dept   \n",
       "1 3      a        2011-01-11 f   cse    \n",
       "2 1      b        2011-02-22 f   maths  \n",
       "3 2      c        2013-03-22 m   physics"
      ]
     },
     "metadata": {},
     "output_type": "display_data"
    }
   ],
   "source": [
    "df"
   ]
  },
  {
   "cell_type": "code",
   "execution_count": 27,
   "id": "9c57a6bb",
   "metadata": {},
   "outputs": [],
   "source": [
    "x=data.frame(s_id=c(1,2,3,4,5),product=c('a','b','c,','d','e'))\n",
    "y=data.frame(s_id=c(1,2,3,4,5),state=c('a','b','c,','d','e'))"
   ]
  },
  {
   "cell_type": "code",
   "execution_count": null,
   "id": "5b68aa12",
   "metadata": {},
   "outputs": [],
   "source": [
    "x=data.frame(s_id=c(1,2,3,4,5),product=c('a','b','c,','d','e'))\n",
    "y=data.frame(s_id=c(1,2,3,4,5),state=c('a','b','c,','d','e'))"
   ]
  }
 ],
 "metadata": {
  "kernelspec": {
   "display_name": "R",
   "language": "R",
   "name": "ir"
  },
  "language_info": {
   "codemirror_mode": "r",
   "file_extension": ".r",
   "mimetype": "text/x-r-source",
   "name": "R",
   "pygments_lexer": "r",
   "version": "3.6.1"
  }
 },
 "nbformat": 4,
 "nbformat_minor": 5
}
