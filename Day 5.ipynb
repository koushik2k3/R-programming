{
 "cells": [
  {
   "cell_type": "code",
   "execution_count": 2,
   "id": "01903855",
   "metadata": {},
   "outputs": [
    {
     "data": {
      "text/html": [
       "'list'"
      ],
      "text/latex": [
       "'list'"
      ],
      "text/markdown": [
       "'list'"
      ],
      "text/plain": [
       "[1] \"list\""
      ]
     },
     "metadata": {},
     "output_type": "display_data"
    },
    {
     "data": {
      "text/html": [
       "<dl>\n",
       "\t<dt>$name</dt>\n",
       "\t\t<dd>'abc'</dd>\n",
       "\t<dt>$dept</dt>\n",
       "\t\t<dd>'cse'</dd>\n",
       "\t<dt>$course</dt>\n",
       "\t\t<dd><ol class=list-inline>\n",
       "\t<li>'java'</li>\n",
       "\t<li>'python'</li>\n",
       "</ol>\n",
       "</dd>\n",
       "</dl>\n"
      ],
      "text/latex": [
       "\\begin{description}\n",
       "\\item[\\$name] 'abc'\n",
       "\\item[\\$dept] 'cse'\n",
       "\\item[\\$course] \\begin{enumerate*}\n",
       "\\item 'java'\n",
       "\\item 'python'\n",
       "\\end{enumerate*}\n",
       "\n",
       "\\end{description}\n"
      ],
      "text/markdown": [
       "$name\n",
       ":   'abc'\n",
       "$dept\n",
       ":   'cse'\n",
       "$course\n",
       ":   1. 'java'\n",
       "2. 'python'\n",
       "\n",
       "\n",
       "\n",
       "\n",
       "\n"
      ],
      "text/plain": [
       "$name\n",
       "[1] \"abc\"\n",
       "\n",
       "$dept\n",
       "[1] \"cse\"\n",
       "\n",
       "$course\n",
       "[1] \"java\"   \"python\"\n"
      ]
     },
     "metadata": {},
     "output_type": "display_data"
    }
   ],
   "source": [
    "#s3 class \n",
    "student=list(name='abc',dept='cse',course=c('java','python'))\n",
    "class(student)#class creation\n",
    "student#object creation"
   ]
  },
  {
   "cell_type": "code",
   "execution_count": 4,
   "id": "9e58d2fe",
   "metadata": {},
   "outputs": [
    {
     "data": {
      "text/html": [
       "'python'"
      ],
      "text/latex": [
       "'python'"
      ],
      "text/markdown": [
       "'python'"
      ],
      "text/plain": [
       "[1] \"python\""
      ]
     },
     "metadata": {},
     "output_type": "display_data"
    }
   ],
   "source": [
    "student$course[2]"
   ]
  },
  {
   "cell_type": "markdown",
   "id": "08ed1a95",
   "metadata": {},
   "source": [
    "## Regular Expression"
   ]
  },
  {
   "cell_type": "code",
   "execution_count": 8,
   "id": "60401171",
   "metadata": {},
   "outputs": [
    {
     "data": {
      "text/html": [
       "<ol class=list-inline>\n",
       "\t<li>TRUE</li>\n",
       "\t<li>FALSE</li>\n",
       "\t<li>TRUE</li>\n",
       "\t<li>FALSE</li>\n",
       "</ol>\n"
      ],
      "text/latex": [
       "\\begin{enumerate*}\n",
       "\\item TRUE\n",
       "\\item FALSE\n",
       "\\item TRUE\n",
       "\\item FALSE\n",
       "\\end{enumerate*}\n"
      ],
      "text/markdown": [
       "1. TRUE\n",
       "2. FALSE\n",
       "3. TRUE\n",
       "4. FALSE\n",
       "\n",
       "\n"
      ],
      "text/plain": [
       "[1]  TRUE FALSE  TRUE FALSE"
      ]
     },
     "metadata": {},
     "output_type": "display_data"
    }
   ],
   "source": [
    "words=c('I like python','java','I hate Python','c')\n",
    "grepl(pattern='python',x=words,ignore.case=TRUE)"
   ]
  },
  {
   "cell_type": "code",
   "execution_count": 9,
   "id": "e5af1ced",
   "metadata": {},
   "outputs": [
    {
     "data": {
      "text/html": [
       "<ol class=list-inline>\n",
       "\t<li>1</li>\n",
       "\t<li>3</li>\n",
       "</ol>\n"
      ],
      "text/latex": [
       "\\begin{enumerate*}\n",
       "\\item 1\n",
       "\\item 3\n",
       "\\end{enumerate*}\n"
      ],
      "text/markdown": [
       "1. 1\n",
       "2. 3\n",
       "\n",
       "\n"
      ],
      "text/plain": [
       "[1] 1 3"
      ]
     },
     "metadata": {},
     "output_type": "display_data"
    },
    {
     "data": {
      "text/html": [
       "<ol class=list-inline>\n",
       "\t<li>'I like python'</li>\n",
       "\t<li>'I hate Python'</li>\n",
       "</ol>\n"
      ],
      "text/latex": [
       "\\begin{enumerate*}\n",
       "\\item 'I like python'\n",
       "\\item 'I hate Python'\n",
       "\\end{enumerate*}\n"
      ],
      "text/markdown": [
       "1. 'I like python'\n",
       "2. 'I hate Python'\n",
       "\n",
       "\n"
      ],
      "text/plain": [
       "[1] \"I like python\" \"I hate Python\""
      ]
     },
     "metadata": {},
     "output_type": "display_data"
    }
   ],
   "source": [
    "grep(pattern='python',x=words,ignore.case=TRUE)\n",
    "grep(pattern='python',x=words,ignore.case=TRUE,value=TRUE)#prints the whole sentence"
   ]
  },
  {
   "cell_type": "code",
   "execution_count": 18,
   "id": "bb977a98",
   "metadata": {},
   "outputs": [
    {
     "name": "stdout",
     "output_type": "stream",
     "text": [
      "[1] \"I like python\"\n",
      "[1] \"I hate Python\"\n"
     ]
    }
   ],
   "source": [
    "for (i in grep(pattern='python',x=words,ignore.case=TRUE,value=TRUE)){\n",
    "    grep(pattern='python',x=i,ignore.case=TRUE,value=TRUE)#prints the whole sentence\n",
    "    print(i)\n",
    "}"
   ]
  },
  {
   "cell_type": "markdown",
   "id": "97c14d2b",
   "metadata": {},
   "source": [
    "## Extract the phone number from the given para."
   ]
  },
  {
   "cell_type": "code",
   "execution_count": 1,
   "id": "a560421f",
   "metadata": {},
   "outputs": [],
   "source": [
    "library(stringr)"
   ]
  },
  {
   "cell_type": "code",
   "execution_count": 85,
   "id": "883b57db",
   "metadata": {},
   "outputs": [
    {
     "data": {
      "text/html": [
       "'Phone numbers is: 9088093208'"
      ],
      "text/latex": [
       "'Phone numbers is: 9088093208'"
      ],
      "text/markdown": [
       "'Phone numbers is: 9088093208'"
      ],
      "text/plain": [
       "[1] \"Phone numbers is: 9088093208\""
      ]
     },
     "metadata": {},
     "output_type": "display_data"
    },
    {
     "data": {
      "text/html": [
       "'Date of birth is: 15-11-2003'"
      ],
      "text/latex": [
       "'Date of birth is: 15-11-2003'"
      ],
      "text/markdown": [
       "'Date of birth is: 15-11-2003'"
      ],
      "text/plain": [
       "[1] \"Date of birth is: 15-11-2003\""
      ]
     },
     "metadata": {},
     "output_type": "display_data"
    },
    {
     "data": {
      "text/html": [
       "'email is: kousa@gmail.com'"
      ],
      "text/latex": [
       "'email is: kousa@gmail.com'"
      ],
      "text/markdown": [
       "'email is: kousa@gmail.com'"
      ],
      "text/plain": [
       "[1] \"email is: kousa@gmail.com\""
      ]
     },
     "metadata": {},
     "output_type": "display_data"
    }
   ],
   "source": [
    "x=c('my name is kousa. my no is 9088093208. my mail is kousa@gmail.com. my dob is 15-11-2003')\n",
    "paste('Phone numbers is:',str_extract_all(x,\"[6-9]{1}[0-9]{9}\"))#till 1st digit 6-9 till 9th digit 0-9\n",
    "paste('Date of birth is:',str_extract_all(x,\"[:digit:]{2}-[\\\\d]{2}-[:digit:]{4}\"))#date\n",
    "paste('email is:',str_extract_all(x,\"\\\\w+@\\\\w+.\\\\w+\"))#email\n",
    "#str_extract_all(x,\"[1-31]{2}[1-12]{2}\")#date\n",
    "#:digit: or \\\\d are called meta character"
   ]
  },
  {
   "cell_type": "code",
   "execution_count": 25,
   "id": "d2e285ad",
   "metadata": {},
   "outputs": [
    {
     "name": "stdout",
     "output_type": "stream",
     "text": [
      "\n",
      "  There is a binary version available but the source version is later:\n",
      "        binary source needs_compilation\n",
      "stringr  1.4.0  1.4.1             FALSE\n",
      "\n"
     ]
    },
    {
     "name": "stderr",
     "output_type": "stream",
     "text": [
      "installing the source package 'stringr'\n",
      "\n"
     ]
    }
   ],
   "source": [
    "install.packages(\"stringr\")"
   ]
  },
  {
   "cell_type": "markdown",
   "id": "1250d2e1",
   "metadata": {},
   "source": [
    "## Write the R code to print 1st two digits followed by arbitary character"
   ]
  },
  {
   "cell_type": "code",
   "execution_count": 10,
   "id": "205ee9bc",
   "metadata": {},
   "outputs": [
    {
     "data": {
      "text/html": [
       "<ol>\n",
       "\t<li><ol class=list-inline>\n",
       "\t<li>'12 abc'</li>\n",
       "\t<li>'23 xyz'</li>\n",
       "</ol>\n",
       "</li>\n",
       "</ol>\n"
      ],
      "text/latex": [
       "\\begin{enumerate}\n",
       "\\item \\begin{enumerate*}\n",
       "\\item '12 abc'\n",
       "\\item '23 xyz'\n",
       "\\end{enumerate*}\n",
       "\n",
       "\\end{enumerate}\n"
      ],
      "text/markdown": [
       "1. 1. '12 abc'\n",
       "2. '23 xyz'\n",
       "\n",
       "\n",
       "\n",
       "\n",
       "\n"
      ],
      "text/plain": [
       "[[1]]\n",
       "[1] \"12 abc\" \"23 xyz\"\n"
      ]
     },
     "metadata": {},
     "output_type": "display_data"
    },
    {
     "data": {
      "text/html": [
       "<ol>\n",
       "\t<li>'12 abc'</li>\n",
       "</ol>\n"
      ],
      "text/latex": [
       "\\begin{enumerate}\n",
       "\\item '12 abc'\n",
       "\\end{enumerate}\n"
      ],
      "text/markdown": [
       "1. '12 abc'\n",
       "\n",
       "\n"
      ],
      "text/plain": [
       "[[1]]\n",
       "[1] \"12 abc\"\n"
      ]
     },
     "metadata": {},
     "output_type": "display_data"
    },
    {
     "data": {
      "text/html": [
       "<ol>\n",
       "\t<li><ol class=list-inline>\n",
       "\t<li>'12'</li>\n",
       "\t<li>'15'</li>\n",
       "\t<li>'11'</li>\n",
       "</ol>\n",
       "</li>\n",
       "</ol>\n"
      ],
      "text/latex": [
       "\\begin{enumerate}\n",
       "\\item \\begin{enumerate*}\n",
       "\\item '12'\n",
       "\\item '15'\n",
       "\\item '11'\n",
       "\\end{enumerate*}\n",
       "\n",
       "\\end{enumerate}\n"
      ],
      "text/markdown": [
       "1. 1. '12'\n",
       "2. '15'\n",
       "3. '11'\n",
       "\n",
       "\n",
       "\n",
       "\n",
       "\n"
      ],
      "text/plain": [
       "[[1]]\n",
       "[1] \"12\" \"15\" \"11\"\n"
      ]
     },
     "metadata": {},
     "output_type": "display_data"
    },
    {
     "data": {
      "text/html": [
       "<ol>\n",
       "\t<li><ol class=list-inline>\n",
       "\t<li>'12'</li>\n",
       "\t<li>'12'</li>\n",
       "\t<li>'90'</li>\n",
       "\t<li>'88'</li>\n",
       "\t<li>'09'</li>\n",
       "\t<li>'32'</li>\n",
       "\t<li>'08'</li>\n",
       "\t<li>'15'</li>\n",
       "\t<li>'11'</li>\n",
       "\t<li>'20'</li>\n",
       "\t<li>'03'</li>\n",
       "</ol>\n",
       "</li>\n",
       "</ol>\n"
      ],
      "text/latex": [
       "\\begin{enumerate}\n",
       "\\item \\begin{enumerate*}\n",
       "\\item '12'\n",
       "\\item '12'\n",
       "\\item '90'\n",
       "\\item '88'\n",
       "\\item '09'\n",
       "\\item '32'\n",
       "\\item '08'\n",
       "\\item '15'\n",
       "\\item '11'\n",
       "\\item '20'\n",
       "\\item '03'\n",
       "\\end{enumerate*}\n",
       "\n",
       "\\end{enumerate}\n"
      ],
      "text/markdown": [
       "1. 1. '12'\n",
       "2. '12'\n",
       "3. '90'\n",
       "4. '88'\n",
       "5. '09'\n",
       "6. '32'\n",
       "7. '08'\n",
       "8. '15'\n",
       "9. '11'\n",
       "10. '20'\n",
       "11. '03'\n",
       "\n",
       "\n",
       "\n",
       "\n",
       "\n"
      ],
      "text/plain": [
       "[[1]]\n",
       " [1] \"12\" \"12\" \"90\" \"88\" \"09\" \"32\" \"08\" \"15\" \"11\" \"20\" \"03\"\n"
      ]
     },
     "metadata": {},
     "output_type": "display_data"
    }
   ],
   "source": [
    "x=c('my name 12 abc 123 xyz is kousa. my no is 9088093208. my mail is kousa@gmail.com. my dob is 15-11-2003')\n",
    "str_extract_all(x,\"\\\\d{2}\\\\s\\\\w+\")\n",
    "str_extract_all(x,\"\\\\b\\\\d{2}\\\\b\\\\s\\\\w+\")\n",
    "str_extract_all(x,\"\\\\b\\\\d{2}\\\\b\")\n",
    "str_extract_all(x,\"\\\\d{2}\")"
   ]
  },
  {
   "cell_type": "markdown",
   "id": "062d2eec",
   "metadata": {},
   "source": [
    "## Start with c end with e"
   ]
  },
  {
   "cell_type": "code",
   "execution_count": 90,
   "id": "6aeab023",
   "metadata": {},
   "outputs": [
    {
     "data": {
      "text/html": [
       "<ol>\n",
       "\t<li><ol class=list-inline>\n",
       "\t<li>'cake'</li>\n",
       "\t<li>'caste'</li>\n",
       "</ol>\n",
       "</li>\n",
       "</ol>\n"
      ],
      "text/latex": [
       "\\begin{enumerate}\n",
       "\\item \\begin{enumerate*}\n",
       "\\item 'cake'\n",
       "\\item 'caste'\n",
       "\\end{enumerate*}\n",
       "\n",
       "\\end{enumerate}\n"
      ],
      "text/markdown": [
       "1. 1. 'cake'\n",
       "2. 'caste'\n",
       "\n",
       "\n",
       "\n",
       "\n",
       "\n"
      ],
      "text/plain": [
       "[[1]]\n",
       "[1] \"cake\"  \"caste\"\n"
      ]
     },
     "metadata": {},
     "output_type": "display_data"
    }
   ],
   "source": [
    "x=c('cake bake late caste')\n",
    "str_extract_all(x,\"c\\\\w+e\")"
   ]
  },
  {
   "cell_type": "markdown",
   "id": "74c553a2",
   "metadata": {},
   "source": [
    "## Substitute replace "
   ]
  },
  {
   "cell_type": "code",
   "execution_count": 3,
   "id": "6d032cc1",
   "metadata": {},
   "outputs": [
    {
     "data": {
      "text/html": [
       "'R language aa is is a R'"
      ],
      "text/latex": [
       "'R language aa is is a R'"
      ],
      "text/markdown": [
       "'R language aa is is a R'"
      ],
      "text/plain": [
       "[1] \"R language aa is is a R\""
      ]
     },
     "metadata": {},
     "output_type": "display_data"
    },
    {
     "data": {
      "text/html": [
       "<span style=white-space:pre-wrap>'R language  language aa is is a R language '</span>"
      ],
      "text/latex": [
       "'R language  language aa is is a R language '"
      ],
      "text/markdown": [
       "<span style=white-space:pre-wrap>'R language  language aa is is a R language '</span>"
      ],
      "text/plain": [
       "[1] \"R language  language aa is is a R language \""
      ]
     },
     "metadata": {},
     "output_type": "display_data"
    }
   ],
   "source": [
    "df=\"Raa is is a R\"\n",
    "df=sub(\"R\",\"R language \",df)#replace in 1st instance\n",
    "df\n",
    "df=gsub(\"R\",\"R language \",df)#replace all instances\n",
    "df"
   ]
  },
  {
   "cell_type": "markdown",
   "id": "a9a861d3",
   "metadata": {},
   "source": [
    "## Print the word that contains the vowels a i e o u"
   ]
  },
  {
   "cell_type": "code",
   "execution_count": 2,
   "id": "6e029da4",
   "metadata": {},
   "outputs": [
    {
     "data": {
      "text/html": [
       "<ol class=list-inline>\n",
       "\t<li>'abc'</li>\n",
       "\t<li>'Ab'</li>\n",
       "</ol>\n"
      ],
      "text/latex": [
       "\\begin{enumerate*}\n",
       "\\item 'abc'\n",
       "\\item 'Ab'\n",
       "\\end{enumerate*}\n"
      ],
      "text/markdown": [
       "1. 'abc'\n",
       "2. 'Ab'\n",
       "\n",
       "\n"
      ],
      "text/plain": [
       "[1] \"abc\" \"Ab\" "
      ]
     },
     "metadata": {},
     "output_type": "display_data"
    },
    {
     "data": {
      "text/html": [
       "<ol class=list-inline>\n",
       "\t<li>TRUE</li>\n",
       "\t<li>TRUE</li>\n",
       "\t<li>FALSE</li>\n",
       "\t<li>FALSE</li>\n",
       "</ol>\n"
      ],
      "text/latex": [
       "\\begin{enumerate*}\n",
       "\\item TRUE\n",
       "\\item TRUE\n",
       "\\item FALSE\n",
       "\\item FALSE\n",
       "\\end{enumerate*}\n"
      ],
      "text/markdown": [
       "1. TRUE\n",
       "2. TRUE\n",
       "3. FALSE\n",
       "4. FALSE\n",
       "\n",
       "\n"
      ],
      "text/plain": [
       "[1]  TRUE  TRUE FALSE FALSE"
      ]
     },
     "metadata": {},
     "output_type": "display_data"
    }
   ],
   "source": [
    "df=c('abc','Ab','b','B')\n",
    "grep(pattern='[aieouAEIOU]',df,value=TRUE)\n",
    "grepl(pattern='[aieouAEIOU]',df)#this not work \n",
    "#grepl return boolean value \n",
    "#grep gives index or values"
   ]
  },
  {
   "cell_type": "code",
   "execution_count": 120,
   "id": "56e98e34",
   "metadata": {},
   "outputs": [
    {
     "data": {
      "text/html": [
       "<ol>\n",
       "\t<li>'1234-2345-3456-4567'</li>\n",
       "</ol>\n"
      ],
      "text/latex": [
       "\\begin{enumerate}\n",
       "\\item '1234-2345-3456-4567'\n",
       "\\end{enumerate}\n"
      ],
      "text/markdown": [
       "1. '1234-2345-3456-4567'\n",
       "\n",
       "\n"
      ],
      "text/plain": [
       "[[1]]\n",
       "[1] \"1234-2345-3456-4567\"\n"
      ]
     },
     "metadata": {},
     "output_type": "display_data"
    }
   ],
   "source": [
    "df=c('my debit card is 1234-2345-3456-4567')\n",
    "str_extract_all(df,\"\\\\d{4}+-\\\\d{4}+-\\\\d{4}+-\\\\d{4}\")"
   ]
  },
  {
   "cell_type": "code",
   "execution_count": 44,
   "id": "a2e92547",
   "metadata": {},
   "outputs": [
    {
     "data": {
      "text/html": [
       "<ol>\n",
       "\t<li><ol class=list-inline>\n",
       "\t<li>'1100'</li>\n",
       "\t<li>'1101'</li>\n",
       "\t<li>'1010'</li>\n",
       "\t<li>'1021'</li>\n",
       "</ol>\n",
       "</li>\n",
       "</ol>\n"
      ],
      "text/latex": [
       "\\begin{enumerate}\n",
       "\\item \\begin{enumerate*}\n",
       "\\item '1100'\n",
       "\\item '1101'\n",
       "\\item '1010'\n",
       "\\item '1021'\n",
       "\\end{enumerate*}\n",
       "\n",
       "\\end{enumerate}\n"
      ],
      "text/markdown": [
       "1. 1. '1100'\n",
       "2. '1101'\n",
       "3. '1010'\n",
       "4. '1021'\n",
       "\n",
       "\n",
       "\n",
       "\n",
       "\n"
      ],
      "text/plain": [
       "[[1]]\n",
       "[1] \"1100\" \"1101\" \"1010\" \"1021\"\n"
      ]
     },
     "metadata": {},
     "output_type": "display_data"
    }
   ],
   "source": [
    "df=c('1100 1101 1010 1021')\n",
    "str_extract_all(df,\"[1-9]{1}[0-9]{1}[01-9]{2}\")"
   ]
  },
  {
   "cell_type": "code",
   "execution_count": null,
   "id": "06781e3d",
   "metadata": {},
   "outputs": [],
   "source": []
  }
 ],
 "metadata": {
  "kernelspec": {
   "display_name": "R",
   "language": "R",
   "name": "ir"
  },
  "language_info": {
   "codemirror_mode": "r",
   "file_extension": ".r",
   "mimetype": "text/x-r-source",
   "name": "R",
   "pygments_lexer": "r",
   "version": "3.6.1"
  }
 },
 "nbformat": 4,
 "nbformat_minor": 5
}
