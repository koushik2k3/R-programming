{
 "cells": [
  {
   "cell_type": "code",
   "execution_count": 3,
   "id": "3a6bcdcf",
   "metadata": {
    "scrolled": true
   },
   "outputs": [
    {
     "name": "stdout",
     "output_type": "stream",
     "text": [
      "[1] 0\n",
      "[1] 1\n",
      "[1] 2\n",
      "[1] 3\n",
      "[1] 4\n",
      "[1] 5\n"
     ]
    }
   ],
   "source": [
    "#repeat loop similiar to while True but condition checking is inside the block\n",
    "i=0\n",
    "repeat{\n",
    "    print(i)\n",
    "    i=i+1\n",
    "    if (i>5){\n",
    "        break\n",
    "    }\n",
    "}"
   ]
  },
  {
   "cell_type": "code",
   "execution_count": 8,
   "id": "ffd4995f",
   "metadata": {},
   "outputs": [
    {
     "name": "stdout",
     "output_type": "stream",
     "text": [
      "Enter ur choice1\n"
     ]
    },
    {
     "data": {
      "text/html": [
       "'add'"
      ],
      "text/latex": [
       "'add'"
      ],
      "text/markdown": [
       "'add'"
      ],
      "text/plain": [
       "[1] \"add\""
      ]
     },
     "metadata": {},
     "output_type": "display_data"
    }
   ],
   "source": [
    "#switch(1,'add','sub','mul')#will print index specified ouput add\n",
    "case=as.integer(readline('Enter ur choice'))\n",
    "switch(case,'add','sub','mul')"
   ]
  },
  {
   "cell_type": "code",
   "execution_count": 9,
   "id": "53a7d065",
   "metadata": {},
   "outputs": [
    {
     "data": {
      "text/html": [
       "'black'"
      ],
      "text/latex": [
       "'black'"
      ],
      "text/markdown": [
       "'black'"
      ],
      "text/plain": [
       "[1] \"black\""
      ]
     },
     "metadata": {},
     "output_type": "display_data"
    }
   ],
   "source": [
    "switch(\"color\",name='xyz',age=12,color='black')"
   ]
  },
  {
   "cell_type": "code",
   "execution_count": 13,
   "id": "e95fbb53",
   "metadata": {
    "scrolled": true
   },
   "outputs": [
    {
     "data": {
      "text/html": [
       "'helloworld'"
      ],
      "text/latex": [
       "'helloworld'"
      ],
      "text/markdown": [
       "'helloworld'"
      ],
      "text/plain": [
       "[1] \"helloworld\""
      ]
     },
     "metadata": {},
     "output_type": "display_data"
    },
    {
     "name": "stdout",
     "output_type": "stream",
     "text": [
      "Enter ur choice1\n"
     ]
    },
    {
     "data": {
      "text/html": [
       "'add'"
      ],
      "text/latex": [
       "'add'"
      ],
      "text/markdown": [
       "'add'"
      ],
      "text/plain": [
       "[1] \"add\""
      ]
     },
     "metadata": {},
     "output_type": "display_data"
    }
   ],
   "source": [
    "a=function(parameter){\n",
    "    paste(parameter)\n",
    "}\n",
    "arg='helloworld'\n",
    "a(arg)\n",
    "case=as.integer(readline('Enter ur choice'))\n",
    "switch(case,a('add'),a('sub'),a('mul'))#functions can also be called"
   ]
  },
  {
   "cell_type": "markdown",
   "id": "7c7530e7",
   "metadata": {},
   "source": [
    "## Calculator"
   ]
  },
  {
   "cell_type": "code",
   "execution_count": 64,
   "id": "257133fb",
   "metadata": {
    "scrolled": true
   },
   "outputs": [
    {
     "name": "stdout",
     "output_type": "stream",
     "text": [
      "Enter ur choice: \n",
      "1.ADD\n",
      "2.SUB\n",
      "3.MUL\n",
      "4.DIV\n",
      "1\n",
      "Enter no. 1 1\n",
      "Enter no. 2 2\n"
     ]
    },
    {
     "data": {
      "text/html": [
       "'result: 3 operator +'"
      ],
      "text/latex": [
       "'result: 3 operator +'"
      ],
      "text/markdown": [
       "'result: 3 operator +'"
      ],
      "text/plain": [
       "[1] \"result: 3 operator +\""
      ]
     },
     "metadata": {},
     "output_type": "display_data"
    }
   ],
   "source": [
    "add=function(){\n",
    "    a=as.integer(readline('Enter no. 1 '))\n",
    "    b=as.integer(readline('Enter no. 2 '))\n",
    "    return (a+b)\n",
    "}\n",
    "sub=function(){\n",
    "    a=as.integer(readline('Enter no. 1 '))\n",
    "    b=as.integer(readline('Enter no. 2 '))\n",
    "    return (a-b)\n",
    "}\n",
    "mul=function(){\n",
    "    a=as.integer(readline('Enter no. 1 '))\n",
    "    b=as.integer(readline('Enter no. 2 '))\n",
    "    return (a*b)\n",
    "}\n",
    "div=function(){\n",
    "    a=as.integer(readline('Enter no. 1 '))\n",
    "    b=as.integer(readline('Enter no. 2 '))\n",
    "    return (a/b)\n",
    "}\n",
    "case=as.integer(readline('Enter ur choice: \\n1.ADD\\n2.SUB\\n3.MUL\\n4.DIV\\n'))\n",
    "result=switch(case,add(),sub(),mul(),div())\n",
    "operator=switch(case,'+','-','x','/')\n",
    "paste('result:',result,'operator',operator)\n",
    "\n"
   ]
  },
  {
   "cell_type": "markdown",
   "id": "c281ef75",
   "metadata": {},
   "source": [
    "### Keyword arguments"
   ]
  },
  {
   "cell_type": "code",
   "execution_count": 33,
   "id": "bacd5dd9",
   "metadata": {},
   "outputs": [
    {
     "data": {
      "text/html": [
       "'name: kousa dept: cse age 11'"
      ],
      "text/latex": [
       "'name: kousa dept: cse age 11'"
      ],
      "text/markdown": [
       "'name: kousa dept: cse age 11'"
      ],
      "text/plain": [
       "[1] \"name: kousa dept: cse age 11\""
      ]
     },
     "metadata": {},
     "output_type": "display_data"
    }
   ],
   "source": [
    "a=function(name,dept,age){\n",
    "    paste('name:',name,'dept:',dept,'age',age)\n",
    "}\n",
    "a(dept='cse',11,name='kousa')"
   ]
  },
  {
   "cell_type": "markdown",
   "id": "15944847",
   "metadata": {},
   "source": [
    "### Default "
   ]
  },
  {
   "cell_type": "code",
   "execution_count": 39,
   "id": "da91b8d7",
   "metadata": {},
   "outputs": [
    {
     "data": {
      "text/html": [
       "'name: goutha dept: cse age 11'"
      ],
      "text/latex": [
       "'name: goutha dept: cse age 11'"
      ],
      "text/markdown": [
       "'name: goutha dept: cse age 11'"
      ],
      "text/plain": [
       "[1] \"name: goutha dept: cse age 11\""
      ]
     },
     "metadata": {},
     "output_type": "display_data"
    }
   ],
   "source": [
    "a=function(dept,age,name='goutha'){#default argument must always come at last\n",
    "    paste('name:',name,'dept:',dept,'age',age)\n",
    "}\n",
    "a(age=11,dept='cse')"
   ]
  },
  {
   "cell_type": "code",
   "execution_count": 45,
   "id": "5cbe7d49",
   "metadata": {},
   "outputs": [
    {
     "data": {
      "text/html": [
       "<ol class=list-inline>\n",
       "\t<li>-0.59144047751357</li>\n",
       "\t<li>0.603053390716502</li>\n",
       "\t<li>0.0118038134486253</li>\n",
       "</ol>\n"
      ],
      "text/latex": [
       "\\begin{enumerate*}\n",
       "\\item -0.59144047751357\n",
       "\\item 0.603053390716502\n",
       "\\item 0.0118038134486253\n",
       "\\end{enumerate*}\n"
      ],
      "text/markdown": [
       "1. -0.59144047751357\n",
       "2. 0.603053390716502\n",
       "3. 0.0118038134486253\n",
       "\n",
       "\n"
      ],
      "text/plain": [
       "[1] -0.59144048  0.60305339  0.01180381"
      ]
     },
     "metadata": {},
     "output_type": "display_data"
    }
   ],
   "source": [
    "#normal distribution\n",
    "rnorm(3)#default mean=0 std deviation=1"
   ]
  },
  {
   "cell_type": "code",
   "execution_count": 51,
   "id": "8ebd4045",
   "metadata": {},
   "outputs": [
    {
     "data": {
      "text/html": [
       "<ol class=list-inline>\n",
       "\t<li>5.74797371908191</li>\n",
       "\t<li>6.62333482252414</li>\n",
       "\t<li>4.35912172646244</li>\n",
       "\t<li>4.68885305761806</li>\n",
       "\t<li>2.0853422904939</li>\n",
       "</ol>\n"
      ],
      "text/latex": [
       "\\begin{enumerate*}\n",
       "\\item 5.74797371908191\n",
       "\\item 6.62333482252414\n",
       "\\item 4.35912172646244\n",
       "\\item 4.68885305761806\n",
       "\\item 2.0853422904939\n",
       "\\end{enumerate*}\n"
      ],
      "text/markdown": [
       "1. 5.74797371908191\n",
       "2. 6.62333482252414\n",
       "3. 4.35912172646244\n",
       "4. 4.68885305761806\n",
       "5. 2.0853422904939\n",
       "\n",
       "\n"
      ],
      "text/plain": [
       "[1] 5.747974 6.623335 4.359122 4.688853 2.085342"
      ]
     },
     "metadata": {},
     "output_type": "display_data"
    }
   ],
   "source": [
    "rnorm(5,mean=5,sd=2)"
   ]
  },
  {
   "cell_type": "code",
   "execution_count": 63,
   "id": "a895858e",
   "metadata": {},
   "outputs": [
    {
     "data": {
      "text/html": [
       "<ol class=list-inline>\n",
       "\t<li>33.895779682789</li>\n",
       "\t<li>43.4911509673111</li>\n",
       "\t<li>61.5568027016707</li>\n",
       "</ol>\n"
      ],
      "text/latex": [
       "\\begin{enumerate*}\n",
       "\\item 33.895779682789\n",
       "\\item 43.4911509673111\n",
       "\\item 61.5568027016707\n",
       "\\end{enumerate*}\n"
      ],
      "text/markdown": [
       "1. 33.895779682789\n",
       "2. 43.4911509673111\n",
       "3. 61.5568027016707\n",
       "\n",
       "\n"
      ],
      "text/plain": [
       "[1] 33.89578 43.49115 61.55680"
      ]
     },
     "metadata": {},
     "output_type": "display_data"
    }
   ],
   "source": [
    "#uniform distribution\n",
    "set.seed(1)#to lock the random values\n",
    "runif(3,min=10,max=100)#min and maximum value"
   ]
  },
  {
   "cell_type": "code",
   "execution_count": null,
   "id": "66c4f831",
   "metadata": {},
   "outputs": [],
   "source": []
  },
  {
   "cell_type": "code",
   "execution_count": null,
   "id": "81a9ee5e",
   "metadata": {},
   "outputs": [],
   "source": []
  }
 ],
 "metadata": {
  "kernelspec": {
   "display_name": "R",
   "language": "R",
   "name": "ir"
  },
  "language_info": {
   "codemirror_mode": "r",
   "file_extension": ".r",
   "mimetype": "text/x-r-source",
   "name": "R",
   "pygments_lexer": "r",
   "version": "3.6.1"
  }
 },
 "nbformat": 4,
 "nbformat_minor": 5
}
