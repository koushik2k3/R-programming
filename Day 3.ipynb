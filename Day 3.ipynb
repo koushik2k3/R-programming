{
 "cells": [
  {
   "cell_type": "code",
   "execution_count": 18,
   "id": "cdc63a7f",
   "metadata": {},
   "outputs": [
    {
     "data": {
      "text/html": [
       "<table>\n",
       "<thead><tr><th scope=col>emp_id</th><th scope=col>emp_name</th><th scope=col>emp_date</th><th scope=col>gen</th></tr></thead>\n",
       "<tbody>\n",
       "\t<tr><td>3         </td><td>a         </td><td>2011-01-11</td><td>f         </td></tr>\n",
       "\t<tr><td>1         </td><td>b         </td><td>2011-02-22</td><td>f         </td></tr>\n",
       "\t<tr><td>2         </td><td>c         </td><td>2013-03-22</td><td>m         </td></tr>\n",
       "</tbody>\n",
       "</table>\n"
      ],
      "text/latex": [
       "\\begin{tabular}{r|llll}\n",
       " emp\\_id & emp\\_name & emp\\_date & gen\\\\\n",
       "\\hline\n",
       "\t 3          & a          & 2011-01-11 & f         \\\\\n",
       "\t 1          & b          & 2011-02-22 & f         \\\\\n",
       "\t 2          & c          & 2013-03-22 & m         \\\\\n",
       "\\end{tabular}\n"
      ],
      "text/markdown": [
       "\n",
       "| emp_id | emp_name | emp_date | gen |\n",
       "|---|---|---|---|\n",
       "| 3          | a          | 2011-01-11 | f          |\n",
       "| 1          | b          | 2011-02-22 | f          |\n",
       "| 2          | c          | 2013-03-22 | m          |\n",
       "\n"
      ],
      "text/plain": [
       "  emp_id emp_name emp_date   gen\n",
       "1 3      a        2011-01-11 f  \n",
       "2 1      b        2011-02-22 f  \n",
       "3 2      c        2013-03-22 m  "
      ]
     },
     "metadata": {},
     "output_type": "display_data"
    }
   ],
   "source": [
    "df=data.frame(emp_id=c(3,1,2),emp_name=c('a','b','c'),emp_date=as.Date(c('2011-1-11','2011-2-22','2013-3-22')),gen=factor(c('f','f','m')))\n",
    "df"
   ]
  },
  {
   "cell_type": "code",
   "execution_count": 19,
   "id": "265d075f",
   "metadata": {},
   "outputs": [
    {
     "data": {
      "text/html": [
       "<table>\n",
       "<thead><tr><th></th><th scope=col>emp_id</th><th scope=col>emp_name</th><th scope=col>emp_date</th><th scope=col>gen</th></tr></thead>\n",
       "<tbody>\n",
       "\t<tr><th scope=row>2</th><td>1         </td><td>b         </td><td>2011-02-22</td><td>f         </td></tr>\n",
       "\t<tr><th scope=row>3</th><td>2         </td><td>c         </td><td>2013-03-22</td><td>m         </td></tr>\n",
       "\t<tr><th scope=row>1</th><td>3         </td><td>a         </td><td>2011-01-11</td><td>f         </td></tr>\n",
       "</tbody>\n",
       "</table>\n"
      ],
      "text/latex": [
       "\\begin{tabular}{r|llll}\n",
       "  & emp\\_id & emp\\_name & emp\\_date & gen\\\\\n",
       "\\hline\n",
       "\t2 & 1          & b          & 2011-02-22 & f         \\\\\n",
       "\t3 & 2          & c          & 2013-03-22 & m         \\\\\n",
       "\t1 & 3          & a          & 2011-01-11 & f         \\\\\n",
       "\\end{tabular}\n"
      ],
      "text/markdown": [
       "\n",
       "| <!--/--> | emp_id | emp_name | emp_date | gen |\n",
       "|---|---|---|---|---|\n",
       "| 2 | 1          | b          | 2011-02-22 | f          |\n",
       "| 3 | 2          | c          | 2013-03-22 | m          |\n",
       "| 1 | 3          | a          | 2011-01-11 | f          |\n",
       "\n"
      ],
      "text/plain": [
       "  emp_id emp_name emp_date   gen\n",
       "2 1      b        2011-02-22 f  \n",
       "3 2      c        2013-03-22 m  \n",
       "1 3      a        2011-01-11 f  "
      ]
     },
     "metadata": {},
     "output_type": "display_data"
    }
   ],
   "source": [
    "#sorting\n",
    "df[with(df,order(c(emp_id))),]#as df[row,col] is syntax"
   ]
  },
  {
   "cell_type": "code",
   "execution_count": 20,
   "id": "556ae587",
   "metadata": {
    "scrolled": true
   },
   "outputs": [
    {
     "data": {
      "text/html": [
       "<table>\n",
       "<thead><tr><th scope=col>emp_id</th><th scope=col>emp_name</th><th scope=col>emp_date</th><th scope=col>gen</th></tr></thead>\n",
       "<tbody>\n",
       "\t<tr><td>3         </td><td>a         </td><td>2011-01-11</td><td>f         </td></tr>\n",
       "\t<tr><td>1         </td><td>b         </td><td>2011-02-22</td><td>f         </td></tr>\n",
       "\t<tr><td>2         </td><td>c         </td><td>2013-03-22</td><td>m         </td></tr>\n",
       "</tbody>\n",
       "</table>\n"
      ],
      "text/latex": [
       "\\begin{tabular}{r|llll}\n",
       " emp\\_id & emp\\_name & emp\\_date & gen\\\\\n",
       "\\hline\n",
       "\t 3          & a          & 2011-01-11 & f         \\\\\n",
       "\t 1          & b          & 2011-02-22 & f         \\\\\n",
       "\t 2          & c          & 2013-03-22 & m         \\\\\n",
       "\\end{tabular}\n"
      ],
      "text/markdown": [
       "\n",
       "| emp_id | emp_name | emp_date | gen |\n",
       "|---|---|---|---|\n",
       "| 3          | a          | 2011-01-11 | f          |\n",
       "| 1          | b          | 2011-02-22 | f          |\n",
       "| 2          | c          | 2013-03-22 | m          |\n",
       "\n"
      ],
      "text/plain": [
       "  emp_id emp_name emp_date   gen\n",
       "1 3      a        2011-01-11 f  \n",
       "2 1      b        2011-02-22 f  \n",
       "3 2      c        2013-03-22 m  "
      ]
     },
     "metadata": {},
     "output_type": "display_data"
    }
   ],
   "source": [
    "df"
   ]
  },
  {
   "cell_type": "markdown",
   "id": "fe91f7de",
   "metadata": {},
   "source": [
    "## Adding new column"
   ]
  },
  {
   "cell_type": "code",
   "execution_count": 21,
   "id": "baff73bf",
   "metadata": {},
   "outputs": [],
   "source": [
    "df['dept']=c('cse','maths','physics')"
   ]
  },
  {
   "cell_type": "code",
   "execution_count": 22,
   "id": "eefad49a",
   "metadata": {
    "scrolled": true
   },
   "outputs": [
    {
     "data": {
      "text/html": [
       "<table>\n",
       "<thead><tr><th scope=col>emp_id</th><th scope=col>emp_name</th><th scope=col>emp_date</th><th scope=col>gen</th><th scope=col>dept</th></tr></thead>\n",
       "<tbody>\n",
       "\t<tr><td>3         </td><td>a         </td><td>2011-01-11</td><td>f         </td><td>cse       </td></tr>\n",
       "\t<tr><td>1         </td><td>b         </td><td>2011-02-22</td><td>f         </td><td>maths     </td></tr>\n",
       "\t<tr><td>2         </td><td>c         </td><td>2013-03-22</td><td>m         </td><td>physics   </td></tr>\n",
       "</tbody>\n",
       "</table>\n"
      ],
      "text/latex": [
       "\\begin{tabular}{r|lllll}\n",
       " emp\\_id & emp\\_name & emp\\_date & gen & dept\\\\\n",
       "\\hline\n",
       "\t 3          & a          & 2011-01-11 & f          & cse       \\\\\n",
       "\t 1          & b          & 2011-02-22 & f          & maths     \\\\\n",
       "\t 2          & c          & 2013-03-22 & m          & physics   \\\\\n",
       "\\end{tabular}\n"
      ],
      "text/markdown": [
       "\n",
       "| emp_id | emp_name | emp_date | gen | dept |\n",
       "|---|---|---|---|---|\n",
       "| 3          | a          | 2011-01-11 | f          | cse        |\n",
       "| 1          | b          | 2011-02-22 | f          | maths      |\n",
       "| 2          | c          | 2013-03-22 | m          | physics    |\n",
       "\n"
      ],
      "text/plain": [
       "  emp_id emp_name emp_date   gen dept   \n",
       "1 3      a        2011-01-11 f   cse    \n",
       "2 1      b        2011-02-22 f   maths  \n",
       "3 2      c        2013-03-22 m   physics"
      ]
     },
     "metadata": {},
     "output_type": "display_data"
    }
   ],
   "source": [
    "df"
   ]
  },
  {
   "cell_type": "markdown",
   "id": "8d4a2a60",
   "metadata": {},
   "source": [
    "## Adding new row"
   ]
  },
  {
   "cell_type": "code",
   "execution_count": 23,
   "id": "65a528d6",
   "metadata": {},
   "outputs": [
    {
     "data": {
      "text/html": [
       "<table>\n",
       "<thead><tr><th scope=col>emp_id</th><th scope=col>emp_name</th><th scope=col>emp_date</th><th scope=col>gen</th><th scope=col>dept</th></tr></thead>\n",
       "<tbody>\n",
       "\t<tr><td>3         </td><td>a         </td><td>2011-01-11</td><td>f         </td><td>cse       </td></tr>\n",
       "\t<tr><td>1         </td><td>b         </td><td>2011-02-22</td><td>f         </td><td>maths     </td></tr>\n",
       "\t<tr><td>2         </td><td>c         </td><td>2013-03-22</td><td>m         </td><td>physics   </td></tr>\n",
       "</tbody>\n",
       "</table>\n"
      ],
      "text/latex": [
       "\\begin{tabular}{r|lllll}\n",
       " emp\\_id & emp\\_name & emp\\_date & gen & dept\\\\\n",
       "\\hline\n",
       "\t 3          & a          & 2011-01-11 & f          & cse       \\\\\n",
       "\t 1          & b          & 2011-02-22 & f          & maths     \\\\\n",
       "\t 2          & c          & 2013-03-22 & m          & physics   \\\\\n",
       "\\end{tabular}\n"
      ],
      "text/markdown": [
       "\n",
       "| emp_id | emp_name | emp_date | gen | dept |\n",
       "|---|---|---|---|---|\n",
       "| 3          | a          | 2011-01-11 | f          | cse        |\n",
       "| 1          | b          | 2011-02-22 | f          | maths      |\n",
       "| 2          | c          | 2013-03-22 | m          | physics    |\n",
       "\n"
      ],
      "text/plain": [
       "  emp_id emp_name emp_date   gen dept   \n",
       "1 3      a        2011-01-11 f   cse    \n",
       "2 1      b        2011-02-22 f   maths  \n",
       "3 2      c        2013-03-22 m   physics"
      ]
     },
     "metadata": {},
     "output_type": "display_data"
    }
   ],
   "source": [
    "df1=data.frame(emp_id=c(3,1,2),emp_name=c('a','b','c'),emp_date=as.Date(c('2011-1-11','2011-2-22','2013-3-22')),gen=factor(c('f','f','m')),dept=c('cse','maths','physics'))\n",
    "df1"
   ]
  },
  {
   "cell_type": "code",
   "execution_count": 24,
   "id": "d9bc4c75",
   "metadata": {},
   "outputs": [
    {
     "data": {
      "text/html": [
       "<table>\n",
       "<thead><tr><th scope=col>emp_id</th><th scope=col>emp_name</th><th scope=col>emp_date</th><th scope=col>gen</th><th scope=col>dept</th></tr></thead>\n",
       "<tbody>\n",
       "\t<tr><td>3         </td><td>a         </td><td>2011-01-11</td><td>f         </td><td>cse       </td></tr>\n",
       "\t<tr><td>1         </td><td>b         </td><td>2011-02-22</td><td>f         </td><td>maths     </td></tr>\n",
       "\t<tr><td>2         </td><td>c         </td><td>2013-03-22</td><td>m         </td><td>physics   </td></tr>\n",
       "\t<tr><td>3         </td><td>a         </td><td>2011-01-11</td><td>f         </td><td>cse       </td></tr>\n",
       "\t<tr><td>1         </td><td>b         </td><td>2011-02-22</td><td>f         </td><td>maths     </td></tr>\n",
       "\t<tr><td>2         </td><td>c         </td><td>2013-03-22</td><td>m         </td><td>physics   </td></tr>\n",
       "</tbody>\n",
       "</table>\n"
      ],
      "text/latex": [
       "\\begin{tabular}{r|lllll}\n",
       " emp\\_id & emp\\_name & emp\\_date & gen & dept\\\\\n",
       "\\hline\n",
       "\t 3          & a          & 2011-01-11 & f          & cse       \\\\\n",
       "\t 1          & b          & 2011-02-22 & f          & maths     \\\\\n",
       "\t 2          & c          & 2013-03-22 & m          & physics   \\\\\n",
       "\t 3          & a          & 2011-01-11 & f          & cse       \\\\\n",
       "\t 1          & b          & 2011-02-22 & f          & maths     \\\\\n",
       "\t 2          & c          & 2013-03-22 & m          & physics   \\\\\n",
       "\\end{tabular}\n"
      ],
      "text/markdown": [
       "\n",
       "| emp_id | emp_name | emp_date | gen | dept |\n",
       "|---|---|---|---|---|\n",
       "| 3          | a          | 2011-01-11 | f          | cse        |\n",
       "| 1          | b          | 2011-02-22 | f          | maths      |\n",
       "| 2          | c          | 2013-03-22 | m          | physics    |\n",
       "| 3          | a          | 2011-01-11 | f          | cse        |\n",
       "| 1          | b          | 2011-02-22 | f          | maths      |\n",
       "| 2          | c          | 2013-03-22 | m          | physics    |\n",
       "\n"
      ],
      "text/plain": [
       "  emp_id emp_name emp_date   gen dept   \n",
       "1 3      a        2011-01-11 f   cse    \n",
       "2 1      b        2011-02-22 f   maths  \n",
       "3 2      c        2013-03-22 m   physics\n",
       "4 3      a        2011-01-11 f   cse    \n",
       "5 1      b        2011-02-22 f   maths  \n",
       "6 2      c        2013-03-22 m   physics"
      ]
     },
     "metadata": {},
     "output_type": "display_data"
    }
   ],
   "source": [
    "rbind(df,df1)#inplace is not true"
   ]
  },
  {
   "cell_type": "code",
   "execution_count": 25,
   "id": "08d51ae2",
   "metadata": {},
   "outputs": [
    {
     "data": {
      "text/html": [
       "<table>\n",
       "<thead><tr><th scope=col>emp_id</th><th scope=col>emp_name</th><th scope=col>emp_date</th><th scope=col>gen</th><th scope=col>dept</th></tr></thead>\n",
       "<tbody>\n",
       "\t<tr><td>3         </td><td>a         </td><td>2011-01-11</td><td>f         </td><td>cse       </td></tr>\n",
       "\t<tr><td>1         </td><td>b         </td><td>2011-02-22</td><td>f         </td><td>maths     </td></tr>\n",
       "\t<tr><td>2         </td><td>c         </td><td>2013-03-22</td><td>m         </td><td>physics   </td></tr>\n",
       "</tbody>\n",
       "</table>\n"
      ],
      "text/latex": [
       "\\begin{tabular}{r|lllll}\n",
       " emp\\_id & emp\\_name & emp\\_date & gen & dept\\\\\n",
       "\\hline\n",
       "\t 3          & a          & 2011-01-11 & f          & cse       \\\\\n",
       "\t 1          & b          & 2011-02-22 & f          & maths     \\\\\n",
       "\t 2          & c          & 2013-03-22 & m          & physics   \\\\\n",
       "\\end{tabular}\n"
      ],
      "text/markdown": [
       "\n",
       "| emp_id | emp_name | emp_date | gen | dept |\n",
       "|---|---|---|---|---|\n",
       "| 3          | a          | 2011-01-11 | f          | cse        |\n",
       "| 1          | b          | 2011-02-22 | f          | maths      |\n",
       "| 2          | c          | 2013-03-22 | m          | physics    |\n",
       "\n"
      ],
      "text/plain": [
       "  emp_id emp_name emp_date   gen dept   \n",
       "1 3      a        2011-01-11 f   cse    \n",
       "2 1      b        2011-02-22 f   maths  \n",
       "3 2      c        2013-03-22 m   physics"
      ]
     },
     "metadata": {},
     "output_type": "display_data"
    }
   ],
   "source": [
    "df"
   ]
  },
  {
   "cell_type": "code",
   "execution_count": 31,
   "id": "e93864eb",
   "metadata": {},
   "outputs": [],
   "source": [
    "#removing column\n",
    "df1=subset(df,select=c(dept))# selecting a column\n",
    "df2=subset(df,select=-c(dept))# removing a column"
   ]
  },
  {
   "cell_type": "code",
   "execution_count": 32,
   "id": "4cc8acec",
   "metadata": {
    "scrolled": true
   },
   "outputs": [
    {
     "data": {
      "text/html": [
       "<table>\n",
       "<thead><tr><th scope=col>dept</th></tr></thead>\n",
       "<tbody>\n",
       "\t<tr><td>cse    </td></tr>\n",
       "\t<tr><td>maths  </td></tr>\n",
       "\t<tr><td>physics</td></tr>\n",
       "</tbody>\n",
       "</table>\n"
      ],
      "text/latex": [
       "\\begin{tabular}{r|l}\n",
       " dept\\\\\n",
       "\\hline\n",
       "\t cse    \\\\\n",
       "\t maths  \\\\\n",
       "\t physics\\\\\n",
       "\\end{tabular}\n"
      ],
      "text/markdown": [
       "\n",
       "| dept |\n",
       "|---|\n",
       "| cse     |\n",
       "| maths   |\n",
       "| physics |\n",
       "\n"
      ],
      "text/plain": [
       "  dept   \n",
       "1 cse    \n",
       "2 maths  \n",
       "3 physics"
      ]
     },
     "metadata": {},
     "output_type": "display_data"
    },
    {
     "data": {
      "text/html": [
       "<table>\n",
       "<thead><tr><th scope=col>emp_id</th><th scope=col>emp_name</th><th scope=col>emp_date</th><th scope=col>gen</th></tr></thead>\n",
       "<tbody>\n",
       "\t<tr><td>3         </td><td>a         </td><td>2011-01-11</td><td>f         </td></tr>\n",
       "\t<tr><td>1         </td><td>b         </td><td>2011-02-22</td><td>f         </td></tr>\n",
       "\t<tr><td>2         </td><td>c         </td><td>2013-03-22</td><td>m         </td></tr>\n",
       "</tbody>\n",
       "</table>\n"
      ],
      "text/latex": [
       "\\begin{tabular}{r|llll}\n",
       " emp\\_id & emp\\_name & emp\\_date & gen\\\\\n",
       "\\hline\n",
       "\t 3          & a          & 2011-01-11 & f         \\\\\n",
       "\t 1          & b          & 2011-02-22 & f         \\\\\n",
       "\t 2          & c          & 2013-03-22 & m         \\\\\n",
       "\\end{tabular}\n"
      ],
      "text/markdown": [
       "\n",
       "| emp_id | emp_name | emp_date | gen |\n",
       "|---|---|---|---|\n",
       "| 3          | a          | 2011-01-11 | f          |\n",
       "| 1          | b          | 2011-02-22 | f          |\n",
       "| 2          | c          | 2013-03-22 | m          |\n",
       "\n"
      ],
      "text/plain": [
       "  emp_id emp_name emp_date   gen\n",
       "1 3      a        2011-01-11 f  \n",
       "2 1      b        2011-02-22 f  \n",
       "3 2      c        2013-03-22 m  "
      ]
     },
     "metadata": {},
     "output_type": "display_data"
    }
   ],
   "source": [
    "df1\n",
    "df2"
   ]
  },
  {
   "cell_type": "code",
   "execution_count": 38,
   "id": "fc120654",
   "metadata": {},
   "outputs": [
    {
     "data": {
      "text/html": [
       "<table>\n",
       "<thead><tr><th></th><th scope=col>emp_id</th><th scope=col>emp_name</th><th scope=col>emp_date</th><th scope=col>gen</th><th scope=col>dept</th></tr></thead>\n",
       "<tbody>\n",
       "\t<tr><th scope=row>1</th><td>3         </td><td>a         </td><td>2011-01-11</td><td>f         </td><td>cse       </td></tr>\n",
       "\t<tr><th scope=row>3</th><td>2         </td><td>c         </td><td>2013-03-22</td><td>m         </td><td>physics   </td></tr>\n",
       "</tbody>\n",
       "</table>\n"
      ],
      "text/latex": [
       "\\begin{tabular}{r|lllll}\n",
       "  & emp\\_id & emp\\_name & emp\\_date & gen & dept\\\\\n",
       "\\hline\n",
       "\t1 & 3          & a          & 2011-01-11 & f          & cse       \\\\\n",
       "\t3 & 2          & c          & 2013-03-22 & m          & physics   \\\\\n",
       "\\end{tabular}\n"
      ],
      "text/markdown": [
       "\n",
       "| <!--/--> | emp_id | emp_name | emp_date | gen | dept |\n",
       "|---|---|---|---|---|---|\n",
       "| 1 | 3          | a          | 2011-01-11 | f          | cse        |\n",
       "| 3 | 2          | c          | 2013-03-22 | m          | physics    |\n",
       "\n"
      ],
      "text/plain": [
       "  emp_id emp_name emp_date   gen dept   \n",
       "1 3      a        2011-01-11 f   cse    \n",
       "3 2      c        2013-03-22 m   physics"
      ]
     },
     "metadata": {},
     "output_type": "display_data"
    }
   ],
   "source": [
    "#removing a row\n",
    "df3=df[-c(2),]\n",
    "df3"
   ]
  },
  {
   "cell_type": "code",
   "execution_count": 56,
   "id": "980c8869",
   "metadata": {
    "scrolled": true
   },
   "outputs": [
    {
     "data": {
      "text/html": [
       "<table>\n",
       "<thead><tr><th scope=col>s_id</th><th scope=col>product</th></tr></thead>\n",
       "<tbody>\n",
       "\t<tr><td>1 </td><td>a </td></tr>\n",
       "\t<tr><td>2 </td><td>b </td></tr>\n",
       "\t<tr><td>3 </td><td>c,</td></tr>\n",
       "\t<tr><td>4 </td><td>d </td></tr>\n",
       "\t<tr><td>5 </td><td>e </td></tr>\n",
       "</tbody>\n",
       "</table>\n"
      ],
      "text/latex": [
       "\\begin{tabular}{r|ll}\n",
       " s\\_id & product\\\\\n",
       "\\hline\n",
       "\t 1  & a \\\\\n",
       "\t 2  & b \\\\\n",
       "\t 3  & c,\\\\\n",
       "\t 4  & d \\\\\n",
       "\t 5  & e \\\\\n",
       "\\end{tabular}\n"
      ],
      "text/markdown": [
       "\n",
       "| s_id | product |\n",
       "|---|---|\n",
       "| 1  | a  |\n",
       "| 2  | b  |\n",
       "| 3  | c, |\n",
       "| 4  | d  |\n",
       "| 5  | e  |\n",
       "\n"
      ],
      "text/plain": [
       "  s_id product\n",
       "1 1    a      \n",
       "2 2    b      \n",
       "3 3    c,     \n",
       "4 4    d      \n",
       "5 5    e      "
      ]
     },
     "metadata": {},
     "output_type": "display_data"
    },
    {
     "data": {
      "text/html": [
       "<table>\n",
       "<thead><tr><th scope=col>s_id</th><th scope=col>state</th></tr></thead>\n",
       "<tbody>\n",
       "\t<tr><td> 2</td><td>a </td></tr>\n",
       "\t<tr><td> 4</td><td>b </td></tr>\n",
       "\t<tr><td> 6</td><td>c,</td></tr>\n",
       "\t<tr><td> 8</td><td>d </td></tr>\n",
       "\t<tr><td>10</td><td>e </td></tr>\n",
       "</tbody>\n",
       "</table>\n"
      ],
      "text/latex": [
       "\\begin{tabular}{r|ll}\n",
       " s\\_id & state\\\\\n",
       "\\hline\n",
       "\t  2 & a \\\\\n",
       "\t  4 & b \\\\\n",
       "\t  6 & c,\\\\\n",
       "\t  8 & d \\\\\n",
       "\t 10 & e \\\\\n",
       "\\end{tabular}\n"
      ],
      "text/markdown": [
       "\n",
       "| s_id | state |\n",
       "|---|---|\n",
       "|  2 | a  |\n",
       "|  4 | b  |\n",
       "|  6 | c, |\n",
       "|  8 | d  |\n",
       "| 10 | e  |\n",
       "\n"
      ],
      "text/plain": [
       "  s_id state\n",
       "1  2   a    \n",
       "2  4   b    \n",
       "3  6   c,   \n",
       "4  8   d    \n",
       "5 10   e    "
      ]
     },
     "metadata": {},
     "output_type": "display_data"
    }
   ],
   "source": [
    "df1=data.frame(s_id=c(1,2,3,4,5),product=c('a','b','c,','d','e'))\n",
    "df2=data.frame(s_id=c(2,4,6,8,10),state=c('a','b','c,','d','e'))\n",
    "df1\n",
    "df2"
   ]
  },
  {
   "cell_type": "markdown",
   "id": "d86b32bf",
   "metadata": {},
   "source": [
    "## Joins"
   ]
  },
  {
   "cell_type": "code",
   "execution_count": 54,
   "id": "3e417c4a",
   "metadata": {},
   "outputs": [],
   "source": [
    "full_outer_join=merge(x=df1,y=df2,by='s_id',all=TRUE)\n",
    "natural_join=merge(x=df1,y=df2,by='s_id')#or intersection\n",
    "left_outer_join=merge(x=df1,y=df2,by='s_id',all.x=TRUE)\n",
    "right_outer_join=merge(x=df1,y=df2,by='s_id',all.y=TRUE)"
   ]
  },
  {
   "cell_type": "code",
   "execution_count": 55,
   "id": "fb61d345",
   "metadata": {
    "scrolled": true
   },
   "outputs": [
    {
     "data": {
      "text/html": [
       "<table>\n",
       "<thead><tr><th scope=col>s_id</th><th scope=col>product</th><th scope=col>state</th></tr></thead>\n",
       "<tbody>\n",
       "\t<tr><td> 1</td><td>a </td><td>NA</td></tr>\n",
       "\t<tr><td> 2</td><td>b </td><td>a </td></tr>\n",
       "\t<tr><td> 3</td><td>c,</td><td>NA</td></tr>\n",
       "\t<tr><td> 4</td><td>d </td><td>b </td></tr>\n",
       "\t<tr><td> 5</td><td>e </td><td>NA</td></tr>\n",
       "\t<tr><td> 6</td><td>NA</td><td>c,</td></tr>\n",
       "\t<tr><td> 8</td><td>NA</td><td>d </td></tr>\n",
       "\t<tr><td>10</td><td>NA</td><td>e </td></tr>\n",
       "</tbody>\n",
       "</table>\n"
      ],
      "text/latex": [
       "\\begin{tabular}{r|lll}\n",
       " s\\_id & product & state\\\\\n",
       "\\hline\n",
       "\t  1 & a  & NA\\\\\n",
       "\t  2 & b  & a \\\\\n",
       "\t  3 & c, & NA\\\\\n",
       "\t  4 & d  & b \\\\\n",
       "\t  5 & e  & NA\\\\\n",
       "\t  6 & NA & c,\\\\\n",
       "\t  8 & NA & d \\\\\n",
       "\t 10 & NA & e \\\\\n",
       "\\end{tabular}\n"
      ],
      "text/markdown": [
       "\n",
       "| s_id | product | state |\n",
       "|---|---|---|\n",
       "|  1 | a  | NA |\n",
       "|  2 | b  | a  |\n",
       "|  3 | c, | NA |\n",
       "|  4 | d  | b  |\n",
       "|  5 | e  | NA |\n",
       "|  6 | NA | c, |\n",
       "|  8 | NA | d  |\n",
       "| 10 | NA | e  |\n",
       "\n"
      ],
      "text/plain": [
       "  s_id product state\n",
       "1  1   a       NA   \n",
       "2  2   b       a    \n",
       "3  3   c,      NA   \n",
       "4  4   d       b    \n",
       "5  5   e       NA   \n",
       "6  6   NA      c,   \n",
       "7  8   NA      d    \n",
       "8 10   NA      e    "
      ]
     },
     "metadata": {},
     "output_type": "display_data"
    },
    {
     "data": {
      "text/html": [
       "<table>\n",
       "<thead><tr><th scope=col>s_id</th><th scope=col>product</th><th scope=col>state</th></tr></thead>\n",
       "<tbody>\n",
       "\t<tr><td>2</td><td>b</td><td>a</td></tr>\n",
       "\t<tr><td>4</td><td>d</td><td>b</td></tr>\n",
       "</tbody>\n",
       "</table>\n"
      ],
      "text/latex": [
       "\\begin{tabular}{r|lll}\n",
       " s\\_id & product & state\\\\\n",
       "\\hline\n",
       "\t 2 & b & a\\\\\n",
       "\t 4 & d & b\\\\\n",
       "\\end{tabular}\n"
      ],
      "text/markdown": [
       "\n",
       "| s_id | product | state |\n",
       "|---|---|---|\n",
       "| 2 | b | a |\n",
       "| 4 | d | b |\n",
       "\n"
      ],
      "text/plain": [
       "  s_id product state\n",
       "1 2    b       a    \n",
       "2 4    d       b    "
      ]
     },
     "metadata": {},
     "output_type": "display_data"
    },
    {
     "data": {
      "text/html": [
       "<table>\n",
       "<thead><tr><th scope=col>s_id</th><th scope=col>product</th><th scope=col>state</th></tr></thead>\n",
       "<tbody>\n",
       "\t<tr><td>1 </td><td>a </td><td>NA</td></tr>\n",
       "\t<tr><td>2 </td><td>b </td><td>a </td></tr>\n",
       "\t<tr><td>3 </td><td>c,</td><td>NA</td></tr>\n",
       "\t<tr><td>4 </td><td>d </td><td>b </td></tr>\n",
       "\t<tr><td>5 </td><td>e </td><td>NA</td></tr>\n",
       "</tbody>\n",
       "</table>\n"
      ],
      "text/latex": [
       "\\begin{tabular}{r|lll}\n",
       " s\\_id & product & state\\\\\n",
       "\\hline\n",
       "\t 1  & a  & NA\\\\\n",
       "\t 2  & b  & a \\\\\n",
       "\t 3  & c, & NA\\\\\n",
       "\t 4  & d  & b \\\\\n",
       "\t 5  & e  & NA\\\\\n",
       "\\end{tabular}\n"
      ],
      "text/markdown": [
       "\n",
       "| s_id | product | state |\n",
       "|---|---|---|\n",
       "| 1  | a  | NA |\n",
       "| 2  | b  | a  |\n",
       "| 3  | c, | NA |\n",
       "| 4  | d  | b  |\n",
       "| 5  | e  | NA |\n",
       "\n"
      ],
      "text/plain": [
       "  s_id product state\n",
       "1 1    a       NA   \n",
       "2 2    b       a    \n",
       "3 3    c,      NA   \n",
       "4 4    d       b    \n",
       "5 5    e       NA   "
      ]
     },
     "metadata": {},
     "output_type": "display_data"
    },
    {
     "data": {
      "text/html": [
       "<table>\n",
       "<thead><tr><th scope=col>s_id</th><th scope=col>product</th><th scope=col>state</th></tr></thead>\n",
       "<tbody>\n",
       "\t<tr><td> 2</td><td>b </td><td>a </td></tr>\n",
       "\t<tr><td> 4</td><td>d </td><td>b </td></tr>\n",
       "\t<tr><td> 6</td><td>NA</td><td>c,</td></tr>\n",
       "\t<tr><td> 8</td><td>NA</td><td>d </td></tr>\n",
       "\t<tr><td>10</td><td>NA</td><td>e </td></tr>\n",
       "</tbody>\n",
       "</table>\n"
      ],
      "text/latex": [
       "\\begin{tabular}{r|lll}\n",
       " s\\_id & product & state\\\\\n",
       "\\hline\n",
       "\t  2 & b  & a \\\\\n",
       "\t  4 & d  & b \\\\\n",
       "\t  6 & NA & c,\\\\\n",
       "\t  8 & NA & d \\\\\n",
       "\t 10 & NA & e \\\\\n",
       "\\end{tabular}\n"
      ],
      "text/markdown": [
       "\n",
       "| s_id | product | state |\n",
       "|---|---|---|\n",
       "|  2 | b  | a  |\n",
       "|  4 | d  | b  |\n",
       "|  6 | NA | c, |\n",
       "|  8 | NA | d  |\n",
       "| 10 | NA | e  |\n",
       "\n"
      ],
      "text/plain": [
       "  s_id product state\n",
       "1  2   b       a    \n",
       "2  4   d       b    \n",
       "3  6   NA      c,   \n",
       "4  8   NA      d    \n",
       "5 10   NA      e    "
      ]
     },
     "metadata": {},
     "output_type": "display_data"
    }
   ],
   "source": [
    "full_outer_join\n",
    "natural_join\n",
    "left_outer_join\n",
    "right_outer_join"
   ]
  },
  {
   "cell_type": "markdown",
   "id": "a4dbe8de",
   "metadata": {},
   "source": [
    "## Conditions and Loops"
   ]
  },
  {
   "cell_type": "code",
   "execution_count": 72,
   "id": "456fe841",
   "metadata": {},
   "outputs": [
    {
     "name": "stdout",
     "output_type": "stream",
     "text": [
      "Enter a number: 0\n",
      "[1] \"Odd\"\n"
     ]
    }
   ],
   "source": [
    "a=as.integer(readline('Enter a number: '))\n",
    "if (a%%2==0 & a!=0)#%% for remainder/modulus operator and not just one %\n",
    "{\n",
    "    print('Even')\n",
    "#}\n",
    "#else{ ---> this won't work\n",
    "}else\n",
    "    {\n",
    "    print('Odd')\n",
    "    }"
   ]
  },
  {
   "cell_type": "code",
   "execution_count": 2,
   "id": "2fb7fee1",
   "metadata": {},
   "outputs": [
    {
     "name": "stdout",
     "output_type": "stream",
     "text": [
      "[1] 1\n",
      "[1] 3\n"
     ]
    }
   ],
   "source": [
    "l=list(1,2,3,4,5)\n",
    "for(x in l){ #da loop\n",
    "#for (x in seq(5)){ #seq is like range in python\n",
    "    if(x==2){\n",
    "        next #da loop statement #next(R)==continue(python)\n",
    "    }\n",
    "    else if(x==4){\n",
    "        break\n",
    "    }\n",
    "    print(x) \n",
    "}"
   ]
  },
  {
   "cell_type": "markdown",
   "id": "808a0d10",
   "metadata": {},
   "source": [
    "## Armstrong Number"
   ]
  },
  {
   "cell_type": "code",
   "execution_count": 83,
   "id": "76194945",
   "metadata": {},
   "outputs": [
    {
     "name": "stdout",
     "output_type": "stream",
     "text": [
      "[1] 153\n"
     ]
    }
   ],
   "source": [
    "a=153\n",
    "print(1^3+5^3+3^3)#cube each digit"
   ]
  },
  {
   "cell_type": "code",
   "execution_count": 96,
   "id": "d29d91fc",
   "metadata": {},
   "outputs": [
    {
     "name": "stdout",
     "output_type": "stream",
     "text": [
      "Enter a number: 153\n"
     ]
    },
    {
     "data": {
      "text/html": [
       "'Yes, it is an armstrong number'"
      ],
      "text/latex": [
       "'Yes, it is an armstrong number'"
      ],
      "text/markdown": [
       "'Yes, it is an armstrong number'"
      ],
      "text/plain": [
       "[1] \"Yes, it is an armstrong number\""
      ]
     },
     "metadata": {},
     "output_type": "display_data"
    }
   ],
   "source": [
    "num=as.integer(readline('Enter a number: '))\n",
    "temp=num\n",
    "sum=0\n",
    "while (temp>0)\n",
    "    {\n",
    "    dg=temp%%10\n",
    "    temp=floor(temp/10)# for c//10 \n",
    "    sum=sum+dg^3\n",
    "}\n",
    "if(sum==num){\n",
    "    paste('Yes, it is an armstrong number')\n",
    "}else{\n",
    "    paste('No, it is not an armstrong number')\n",
    "}"
   ]
  },
  {
   "cell_type": "code",
   "execution_count": 98,
   "id": "3525bff4",
   "metadata": {},
   "outputs": [
    {
     "name": "stdout",
     "output_type": "stream",
     "text": [
      "Enter a number: 153\n"
     ]
    },
    {
     "data": {
      "text/html": [
       "'The sum of the digits of 153 is 9'"
      ],
      "text/latex": [
       "'The sum of the digits of 153 is 9'"
      ],
      "text/markdown": [
       "'The sum of the digits of 153 is 9'"
      ],
      "text/plain": [
       "[1] \"The sum of the digits of 153 is 9\""
      ]
     },
     "metadata": {},
     "output_type": "display_data"
    }
   ],
   "source": [
    "# Sum of digits\n",
    "num=as.integer(readline('Enter a number: '))\n",
    "temp=num\n",
    "sum=0\n",
    "while (temp>0){\n",
    "    dg=temp%%10\n",
    "    sum=sum+dg\n",
    "    temp=floor(temp/10)\n",
    "}\n",
    "paste('The sum of the digits of',num, 'is',sum)"
   ]
  },
  {
   "cell_type": "code",
   "execution_count": 104,
   "id": "6a382440",
   "metadata": {},
   "outputs": [
    {
     "name": "stdout",
     "output_type": "stream",
     "text": [
      "Enter a number: 1230\n"
     ]
    },
    {
     "data": {
      "text/html": [
       "'The reverse of 1230 is 321'"
      ],
      "text/latex": [
       "'The reverse of 1230 is 321'"
      ],
      "text/markdown": [
       "'The reverse of 1230 is 321'"
      ],
      "text/plain": [
       "[1] \"The reverse of 1230 is 321\""
      ]
     },
     "metadata": {},
     "output_type": "display_data"
    }
   ],
   "source": [
    "#Reverse of a number\n",
    "num=as.integer(readline('Enter a number: '))\n",
    "temp=num\n",
    "rev=0\n",
    "while (temp>0){\n",
    "    dg=temp%%10\n",
    "    rev=rev*10+dg\n",
    "    temp=floor(temp/10)\n",
    "}\n",
    "paste('The reverse of',num, 'is',rev)"
   ]
  },
  {
   "cell_type": "code",
   "execution_count": 108,
   "id": "6f8fe239",
   "metadata": {},
   "outputs": [
    {
     "name": "stdout",
     "output_type": "stream",
     "text": [
      "Enter a number: 1234321\n"
     ]
    },
    {
     "data": {
      "text/html": [
       "'Yes 1234321 is a palindrome'"
      ],
      "text/latex": [
       "'Yes 1234321 is a palindrome'"
      ],
      "text/markdown": [
       "'Yes 1234321 is a palindrome'"
      ],
      "text/plain": [
       "[1] \"Yes 1234321 is a palindrome\""
      ]
     },
     "metadata": {},
     "output_type": "display_data"
    }
   ],
   "source": [
    "#Palindrome of a number\n",
    "num=as.integer(readline('Enter a number: '))\n",
    "temp=num\n",
    "rev=0\n",
    "while (temp>0){\n",
    "    dg=temp%%10\n",
    "    rev=rev*10+dg\n",
    "    temp=floor(temp/10)\n",
    "}\n",
    "if(rev==num){\n",
    "    paste('Yes',num,'is a palindrome')\n",
    "}else{\n",
    "    paste('No',num,'is not a palindrome')\n",
    "}"
   ]
  },
  {
   "cell_type": "code",
   "execution_count": 14,
   "id": "6bb85ced",
   "metadata": {},
   "outputs": [
    {
     "name": "stdout",
     "output_type": "stream",
     "text": [
      "Enter no of elements:3\n",
      "Enter element no1\n",
      "Enter element no2\n",
      "Enter element no3\n"
     ]
    },
    {
     "data": {
      "text/html": [
       "<ol class=list-inline>\n",
       "\t<li>'1'</li>\n",
       "\t<li>'2'</li>\n",
       "\t<li>'3'</li>\n",
       "</ol>\n"
      ],
      "text/latex": [
       "\\begin{enumerate*}\n",
       "\\item '1'\n",
       "\\item '2'\n",
       "\\item '3'\n",
       "\\end{enumerate*}\n"
      ],
      "text/markdown": [
       "1. '1'\n",
       "2. '2'\n",
       "3. '3'\n",
       "\n",
       "\n"
      ],
      "text/plain": [
       "[1] \"1\" \"2\" \"3\""
      ]
     },
     "metadata": {},
     "output_type": "display_data"
    },
    {
     "name": "stdout",
     "output_type": "stream",
     "text": [
      "[1] 2\n",
      "[1] 1 3\n"
     ]
    }
   ],
   "source": [
    "lst=c()\n",
    "even=c()\n",
    "odd=c()\n",
    "n=as.integer(readline(\"Enter no of elements:\"))\n",
    "for (i in seq(n)){\n",
    "  lst[i]=as.numeric(readline(\"Enter element no\"))\n",
    "#     if(lst[i] %% 2!=0){\n",
    "#     odd=append(odd,lst[i])\n",
    "#       }else{\n",
    "#         even=append(even,lst[i])\n",
    "#       }\n",
    "    }\n",
    "paste(lst)\n",
    "for (i in seq(n)){\n",
    "  if(lst[i] %% 2!=0){\n",
    "    odd=append(odd,lst[i])\n",
    "  }else{\n",
    "    even=append(even,lst[i])\n",
    "  }\n",
    "}\n",
    "print(even)\n",
    "print(odd)"
   ]
  },
  {
   "cell_type": "code",
   "execution_count": 55,
   "id": "b8926a7e",
   "metadata": {},
   "outputs": [
    {
     "name": "stdout",
     "output_type": "stream",
     "text": [
      "Enter no of elements:3\n",
      "Enter element no1\n",
      "Enter element no2\n",
      "Enter element no3\n"
     ]
    },
    {
     "data": {
      "text/html": [
       "<ol class=list-inline>\n",
       "\t<li>'1'</li>\n",
       "\t<li>'2'</li>\n",
       "\t<li>'3'</li>\n",
       "</ol>\n"
      ],
      "text/latex": [
       "\\begin{enumerate*}\n",
       "\\item '1'\n",
       "\\item '2'\n",
       "\\item '3'\n",
       "\\end{enumerate*}\n"
      ],
      "text/markdown": [
       "1. '1'\n",
       "2. '2'\n",
       "3. '3'\n",
       "\n",
       "\n"
      ],
      "text/plain": [
       "[1] \"1\" \"2\" \"3\""
      ]
     },
     "metadata": {},
     "output_type": "display_data"
    },
    {
     "data": {
      "text/html": [
       "<ol class=list-inline>\n",
       "\t<li>'odd 1'</li>\n",
       "\t<li>'odd 3'</li>\n",
       "</ol>\n"
      ],
      "text/latex": [
       "\\begin{enumerate*}\n",
       "\\item 'odd 1'\n",
       "\\item 'odd 3'\n",
       "\\end{enumerate*}\n"
      ],
      "text/markdown": [
       "1. 'odd 1'\n",
       "2. 'odd 3'\n",
       "\n",
       "\n"
      ],
      "text/plain": [
       "[1] \"odd 1\" \"odd 3\""
      ]
     },
     "metadata": {},
     "output_type": "display_data"
    },
    {
     "data": {
      "text/html": [
       "'even 2'"
      ],
      "text/latex": [
       "'even 2'"
      ],
      "text/markdown": [
       "'even 2'"
      ],
      "text/plain": [
       "[1] \"even 2\""
      ]
     },
     "metadata": {},
     "output_type": "display_data"
    }
   ],
   "source": [
    "lst=c()\n",
    "even=list()\n",
    "odd=list()\n",
    "n=as.integer(readline(\"Enter no of elements:\"))\n",
    "for (i in seq(n)){\n",
    "  lst[i]=as.numeric(readline(\"Enter element no\"))\n",
    "    }\n",
    "paste(lst)\n",
    "for (i in seq(n)){\n",
    "  if(lst[i] %% 2!=0){\n",
    "    odd=append(odd,lst[i])\n",
    "  }else{\n",
    "    even=append(even,lst[i])\n",
    "  }}\n",
    "paste(\"odd\",odd)\n",
    "paste(\"even\",even)"
   ]
  },
  {
   "cell_type": "code",
   "execution_count": null,
   "id": "f6ec8ccd",
   "metadata": {},
   "outputs": [],
   "source": [
    "a=function(a,b,c=1,d=2){\n",
    "    paste(\"a:\",a,\"b:\",b,\"c:\",c,\"d:\",d)\n",
    "}\n",
    "a(1,2,3,4)\n",
    "a(1,2,3)\n",
    "a(1,2)\n",
    "a(1)"
   ]
  },
  {
   "cell_type": "code",
   "execution_count": null,
   "id": "1da49009",
   "metadata": {},
   "outputs": [],
   "source": [
    "\n"
   ]
  }
 ],
 "metadata": {
  "kernelspec": {
   "display_name": "R",
   "language": "R",
   "name": "ir"
  },
  "language_info": {
   "codemirror_mode": "r",
   "file_extension": ".r",
   "mimetype": "text/x-r-source",
   "name": "R",
   "pygments_lexer": "r",
   "version": "3.6.1"
  }
 },
 "nbformat": 4,
 "nbformat_minor": 5
}
